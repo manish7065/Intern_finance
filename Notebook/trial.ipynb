{
 "cells": [
  {
   "cell_type": "code",
   "execution_count": 1,
   "metadata": {},
   "outputs": [],
   "source": [
    "# !pip install ipykernel # run in kernal\n"
   ]
  },
  {
   "cell_type": "code",
   "execution_count": 5,
   "metadata": {},
   "outputs": [
    {
     "name": "stdout",
     "output_type": "stream",
     "text": [
      "Defaulting to user installation because normal site-packages is not writeable\n",
      "Requirement already satisfied: requests in /usr/local/conda/lib/python3.9/site-packages (2.28.1)\n",
      "Requirement already satisfied: urllib3<1.27,>=1.21.1 in /usr/local/conda/lib/python3.9/site-packages (from requests) (1.26.13)\n",
      "Requirement already satisfied: idna<4,>=2.5 in /usr/local/conda/lib/python3.9/site-packages (from requests) (3.4)\n",
      "Requirement already satisfied: certifi>=2017.4.17 in /usr/local/conda/lib/python3.9/site-packages (from requests) (2022.9.24)\n",
      "Requirement already satisfied: charset-normalizer<3,>=2 in /usr/local/conda/lib/python3.9/site-packages (from requests) (2.0.4)\n"
     ]
    }
   ],
   "source": [
    "# !conda install -n base ipykernel --update-deps --force-reinstall\n",
    "!pip install requests\n",
    "\n"
   ]
  },
  {
   "cell_type": "code",
   "execution_count": 6,
   "metadata": {},
   "outputs": [],
   "source": [
    "import json\n",
    "import os,sys\n",
    "import requests\n"
   ]
  },
  {
   "cell_type": "code",
   "execution_count": 7,
   "metadata": {},
   "outputs": [],
   "source": [
    "api_key = '6YKJO21SVQDCYFHF'\n",
    "stock=\"TATAMOTORS\"\n",
    "url =f\"https://www.alphavantage.co/query?function=TIME_SERIES_DAILY_ADJUSTED&symbol={stock}.BSE&outputsize=full&apikey={api_key}\"\n",
    "\n",
    "# url = ''\n",
    "headers = {'Authorization': 'Bearer ' + api_key}\n",
    "response = requests.get(url, headers=headers)\n",
    "# print(response.json())"
   ]
  },
  {
   "cell_type": "code",
   "execution_count": 8,
   "metadata": {},
   "outputs": [
    {
     "data": {
      "text/html": [
       "<div>\n",
       "<style scoped>\n",
       "    .dataframe tbody tr th:only-of-type {\n",
       "        vertical-align: middle;\n",
       "    }\n",
       "\n",
       "    .dataframe tbody tr th {\n",
       "        vertical-align: top;\n",
       "    }\n",
       "\n",
       "    .dataframe thead th {\n",
       "        text-align: right;\n",
       "    }\n",
       "</style>\n",
       "<table border=\"1\" class=\"dataframe\">\n",
       "  <thead>\n",
       "    <tr style=\"text-align: right;\">\n",
       "      <th></th>\n",
       "      <th>Meta Data</th>\n",
       "      <th>Time Series (Daily)</th>\n",
       "    </tr>\n",
       "  </thead>\n",
       "  <tbody>\n",
       "    <tr>\n",
       "      <th>1. Information</th>\n",
       "      <td>Daily Time Series with Splits and Dividend Events</td>\n",
       "      <td>NaN</td>\n",
       "    </tr>\n",
       "    <tr>\n",
       "      <th>2. Symbol</th>\n",
       "      <td>TATAMOTORS.BSE</td>\n",
       "      <td>NaN</td>\n",
       "    </tr>\n",
       "    <tr>\n",
       "      <th>3. Last Refreshed</th>\n",
       "      <td>2023-01-30</td>\n",
       "      <td>NaN</td>\n",
       "    </tr>\n",
       "    <tr>\n",
       "      <th>4. Output Size</th>\n",
       "      <td>Full size</td>\n",
       "      <td>NaN</td>\n",
       "    </tr>\n",
       "    <tr>\n",
       "      <th>5. Time Zone</th>\n",
       "      <td>US/Eastern</td>\n",
       "      <td>NaN</td>\n",
       "    </tr>\n",
       "    <tr>\n",
       "      <th>...</th>\n",
       "      <td>...</td>\n",
       "      <td>...</td>\n",
       "    </tr>\n",
       "    <tr>\n",
       "      <th>2005-01-07</th>\n",
       "      <td>NaN</td>\n",
       "      <td>{'1. open': '472.382', '2. high': '477.077', '...</td>\n",
       "    </tr>\n",
       "    <tr>\n",
       "      <th>2005-01-06</th>\n",
       "      <td>NaN</td>\n",
       "      <td>{'1. open': '483.88', '2. high': '488.192', '3...</td>\n",
       "    </tr>\n",
       "    <tr>\n",
       "      <th>2005-01-05</th>\n",
       "      <td>NaN</td>\n",
       "      <td>{'1. open': '493.462', '2. high': '498.253', '...</td>\n",
       "    </tr>\n",
       "    <tr>\n",
       "      <th>2005-01-04</th>\n",
       "      <td>NaN</td>\n",
       "      <td>{'1. open': '499.5465', '2. high': '504.002', ...</td>\n",
       "    </tr>\n",
       "    <tr>\n",
       "      <th>2005-01-03</th>\n",
       "      <td>NaN</td>\n",
       "      <td>{'1. open': '488.4315', '2. high': '501.1275',...</td>\n",
       "    </tr>\n",
       "  </tbody>\n",
       "</table>\n",
       "<p>4461 rows × 2 columns</p>\n",
       "</div>"
      ],
      "text/plain": [
       "                                                           Meta Data  \\\n",
       "1. Information     Daily Time Series with Splits and Dividend Events   \n",
       "2. Symbol                                             TATAMOTORS.BSE   \n",
       "3. Last Refreshed                                         2023-01-30   \n",
       "4. Output Size                                             Full size   \n",
       "5. Time Zone                                              US/Eastern   \n",
       "...                                                              ...   \n",
       "2005-01-07                                                       NaN   \n",
       "2005-01-06                                                       NaN   \n",
       "2005-01-05                                                       NaN   \n",
       "2005-01-04                                                       NaN   \n",
       "2005-01-03                                                       NaN   \n",
       "\n",
       "                                                 Time Series (Daily)  \n",
       "1. Information                                                   NaN  \n",
       "2. Symbol                                                        NaN  \n",
       "3. Last Refreshed                                                NaN  \n",
       "4. Output Size                                                   NaN  \n",
       "5. Time Zone                                                     NaN  \n",
       "...                                                              ...  \n",
       "2005-01-07         {'1. open': '472.382', '2. high': '477.077', '...  \n",
       "2005-01-06         {'1. open': '483.88', '2. high': '488.192', '3...  \n",
       "2005-01-05         {'1. open': '493.462', '2. high': '498.253', '...  \n",
       "2005-01-04         {'1. open': '499.5465', '2. high': '504.002', ...  \n",
       "2005-01-03         {'1. open': '488.4315', '2. high': '501.1275',...  \n",
       "\n",
       "[4461 rows x 2 columns]"
      ]
     },
     "execution_count": 8,
     "metadata": {},
     "output_type": "execute_result"
    }
   ],
   "source": [
    "import pandas as pd\n",
    "\n",
    "# assuming `response` is the JSON response from the API\n",
    "data = response.json()\n",
    "\n",
    "# Convert the JSON data to a DataFrame\n",
    "df = pd.DataFrame(data)\n",
    "df"
   ]
  },
  {
   "cell_type": "code",
   "execution_count": null,
   "metadata": {},
   "outputs": [],
   "source": []
  },
  {
   "cell_type": "code",
   "execution_count": null,
   "metadata": {},
   "outputs": [],
   "source": []
  },
  {
   "cell_type": "code",
   "execution_count": null,
   "metadata": {},
   "outputs": [],
   "source": []
  },
  {
   "cell_type": "code",
   "execution_count": null,
   "metadata": {},
   "outputs": [],
   "source": []
  },
  {
   "cell_type": "code",
   "execution_count": null,
   "metadata": {},
   "outputs": [],
   "source": []
  },
  {
   "cell_type": "code",
   "execution_count": null,
   "metadata": {},
   "outputs": [],
   "source": []
  }
 ],
 "metadata": {
  "kernelspec": {
   "display_name": "Python 3.9.15 ('base')",
   "language": "python",
   "name": "python3"
  },
  "language_info": {
   "codemirror_mode": {
    "name": "ipython",
    "version": 3
   },
   "file_extension": ".py",
   "mimetype": "text/x-python",
   "name": "python",
   "nbconvert_exporter": "python",
   "pygments_lexer": "ipython3",
   "version": "3.9.15"
  },
  "orig_nbformat": 4,
  "vscode": {
   "interpreter": {
    "hash": "ba7d6a92d9c7295bfdcfceb88786d0d9300abf0a1802f116b1f16ab64cdf39a0"
   }
  }
 },
 "nbformat": 4,
 "nbformat_minor": 2
}
