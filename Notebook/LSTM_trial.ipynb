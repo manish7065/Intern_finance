{
 "cells": [
  {
   "cell_type": "code",
   "execution_count": 13,
   "metadata": {},
   "outputs": [],
   "source": [
    "import pandas as pd"
   ]
  },
  {
   "cell_type": "code",
   "execution_count": 14,
   "metadata": {},
   "outputs": [],
   "source": [
    "# Data Collection\n",
    "# !pip install pandas-datareader\n",
    "import pandas_datareader as pdr"
   ]
  },
  {
   "cell_type": "code",
   "execution_count": 15,
   "metadata": {},
   "outputs": [],
   "source": [
    "import os\n",
    "# print(os.getenv(\"TINGO_KEY\"))"
   ]
  },
  {
   "cell_type": "code",
   "execution_count": 16,
   "metadata": {},
   "outputs": [],
   "source": [
    "# df =pdr.get_data_tiingo('AAPL', api_key=os.getenv(\"TINGO_KEY\"))"
   ]
  },
  {
   "cell_type": "code",
   "execution_count": null,
   "metadata": {},
   "outputs": [],
   "source": []
  },
  {
   "cell_type": "code",
   "execution_count": 17,
   "metadata": {},
   "outputs": [],
   "source": [
    "# save the data in csv\n",
    "\n",
    "# df.to_csv(\"AAPL.csv\")"
   ]
  },
  {
   "cell_type": "code",
   "execution_count": 18,
   "metadata": {},
   "outputs": [],
   "source": [
    "import pandas as pd"
   ]
  },
  {
   "cell_type": "code",
   "execution_count": 19,
   "metadata": {},
   "outputs": [],
   "source": [
    "# Read the data from csv\n",
    "df = pd.read_csv('AAPL.csv')"
   ]
  },
  {
   "cell_type": "code",
   "execution_count": 20,
   "metadata": {},
   "outputs": [
    {
     "data": {
      "text/html": [
       "<div>\n",
       "<style scoped>\n",
       "    .dataframe tbody tr th:only-of-type {\n",
       "        vertical-align: middle;\n",
       "    }\n",
       "\n",
       "    .dataframe tbody tr th {\n",
       "        vertical-align: top;\n",
       "    }\n",
       "\n",
       "    .dataframe thead th {\n",
       "        text-align: right;\n",
       "    }\n",
       "</style>\n",
       "<table border=\"1\" class=\"dataframe\">\n",
       "  <thead>\n",
       "    <tr style=\"text-align: right;\">\n",
       "      <th></th>\n",
       "      <th>symbol</th>\n",
       "      <th>date</th>\n",
       "      <th>close</th>\n",
       "      <th>high</th>\n",
       "      <th>low</th>\n",
       "      <th>open</th>\n",
       "      <th>volume</th>\n",
       "      <th>adjClose</th>\n",
       "      <th>adjHigh</th>\n",
       "      <th>adjLow</th>\n",
       "      <th>adjOpen</th>\n",
       "      <th>adjVolume</th>\n",
       "      <th>divCash</th>\n",
       "      <th>splitFactor</th>\n",
       "    </tr>\n",
       "  </thead>\n",
       "  <tbody>\n",
       "    <tr>\n",
       "      <th>0</th>\n",
       "      <td>AAPL</td>\n",
       "      <td>2018-03-06 00:00:00+00:00</td>\n",
       "      <td>176.67</td>\n",
       "      <td>178.2500</td>\n",
       "      <td>176.13</td>\n",
       "      <td>177.910</td>\n",
       "      <td>23788506</td>\n",
       "      <td>42.048801</td>\n",
       "      <td>42.424853</td>\n",
       "      <td>41.920277</td>\n",
       "      <td>42.343931</td>\n",
       "      <td>95154024</td>\n",
       "      <td>0.0</td>\n",
       "      <td>1.0</td>\n",
       "    </tr>\n",
       "    <tr>\n",
       "      <th>1</th>\n",
       "      <td>AAPL</td>\n",
       "      <td>2018-03-07 00:00:00+00:00</td>\n",
       "      <td>175.03</td>\n",
       "      <td>175.8500</td>\n",
       "      <td>174.27</td>\n",
       "      <td>174.940</td>\n",
       "      <td>31703462</td>\n",
       "      <td>41.658469</td>\n",
       "      <td>41.853635</td>\n",
       "      <td>41.477583</td>\n",
       "      <td>41.637048</td>\n",
       "      <td>126813848</td>\n",
       "      <td>0.0</td>\n",
       "      <td>1.0</td>\n",
       "    </tr>\n",
       "    <tr>\n",
       "      <th>2</th>\n",
       "      <td>AAPL</td>\n",
       "      <td>2018-03-08 00:00:00+00:00</td>\n",
       "      <td>176.94</td>\n",
       "      <td>177.1200</td>\n",
       "      <td>175.07</td>\n",
       "      <td>175.480</td>\n",
       "      <td>23163767</td>\n",
       "      <td>42.113063</td>\n",
       "      <td>42.155905</td>\n",
       "      <td>41.667989</td>\n",
       "      <td>41.765572</td>\n",
       "      <td>92655068</td>\n",
       "      <td>0.0</td>\n",
       "      <td>1.0</td>\n",
       "    </tr>\n",
       "    <tr>\n",
       "      <th>3</th>\n",
       "      <td>AAPL</td>\n",
       "      <td>2018-03-09 00:00:00+00:00</td>\n",
       "      <td>179.98</td>\n",
       "      <td>180.0000</td>\n",
       "      <td>177.39</td>\n",
       "      <td>177.960</td>\n",
       "      <td>31385134</td>\n",
       "      <td>42.836607</td>\n",
       "      <td>42.841367</td>\n",
       "      <td>42.220167</td>\n",
       "      <td>42.355831</td>\n",
       "      <td>125540536</td>\n",
       "      <td>0.0</td>\n",
       "      <td>1.0</td>\n",
       "    </tr>\n",
       "    <tr>\n",
       "      <th>4</th>\n",
       "      <td>AAPL</td>\n",
       "      <td>2018-03-12 00:00:00+00:00</td>\n",
       "      <td>181.72</td>\n",
       "      <td>182.3900</td>\n",
       "      <td>180.21</td>\n",
       "      <td>180.290</td>\n",
       "      <td>32055405</td>\n",
       "      <td>43.250740</td>\n",
       "      <td>43.410205</td>\n",
       "      <td>42.891348</td>\n",
       "      <td>42.910389</td>\n",
       "      <td>128221620</td>\n",
       "      <td>0.0</td>\n",
       "      <td>1.0</td>\n",
       "    </tr>\n",
       "    <tr>\n",
       "      <th>...</th>\n",
       "      <td>...</td>\n",
       "      <td>...</td>\n",
       "      <td>...</td>\n",
       "      <td>...</td>\n",
       "      <td>...</td>\n",
       "      <td>...</td>\n",
       "      <td>...</td>\n",
       "      <td>...</td>\n",
       "      <td>...</td>\n",
       "      <td>...</td>\n",
       "      <td>...</td>\n",
       "      <td>...</td>\n",
       "      <td>...</td>\n",
       "      <td>...</td>\n",
       "    </tr>\n",
       "    <tr>\n",
       "      <th>1253</th>\n",
       "      <td>AAPL</td>\n",
       "      <td>2023-02-27 00:00:00+00:00</td>\n",
       "      <td>147.92</td>\n",
       "      <td>149.1700</td>\n",
       "      <td>147.45</td>\n",
       "      <td>147.710</td>\n",
       "      <td>44998470</td>\n",
       "      <td>147.920000</td>\n",
       "      <td>149.170000</td>\n",
       "      <td>147.450000</td>\n",
       "      <td>147.710000</td>\n",
       "      <td>44998470</td>\n",
       "      <td>0.0</td>\n",
       "      <td>1.0</td>\n",
       "    </tr>\n",
       "    <tr>\n",
       "      <th>1254</th>\n",
       "      <td>AAPL</td>\n",
       "      <td>2023-02-28 00:00:00+00:00</td>\n",
       "      <td>147.41</td>\n",
       "      <td>149.0800</td>\n",
       "      <td>146.83</td>\n",
       "      <td>147.050</td>\n",
       "      <td>50546998</td>\n",
       "      <td>147.410000</td>\n",
       "      <td>149.080000</td>\n",
       "      <td>146.830000</td>\n",
       "      <td>147.050000</td>\n",
       "      <td>50546998</td>\n",
       "      <td>0.0</td>\n",
       "      <td>1.0</td>\n",
       "    </tr>\n",
       "    <tr>\n",
       "      <th>1255</th>\n",
       "      <td>AAPL</td>\n",
       "      <td>2023-03-01 00:00:00+00:00</td>\n",
       "      <td>145.31</td>\n",
       "      <td>147.2285</td>\n",
       "      <td>145.01</td>\n",
       "      <td>146.830</td>\n",
       "      <td>55478991</td>\n",
       "      <td>145.310000</td>\n",
       "      <td>147.228500</td>\n",
       "      <td>145.010000</td>\n",
       "      <td>146.830000</td>\n",
       "      <td>55478991</td>\n",
       "      <td>0.0</td>\n",
       "      <td>1.0</td>\n",
       "    </tr>\n",
       "    <tr>\n",
       "      <th>1256</th>\n",
       "      <td>AAPL</td>\n",
       "      <td>2023-03-02 00:00:00+00:00</td>\n",
       "      <td>145.91</td>\n",
       "      <td>146.7100</td>\n",
       "      <td>143.90</td>\n",
       "      <td>144.380</td>\n",
       "      <td>52279761</td>\n",
       "      <td>145.910000</td>\n",
       "      <td>146.710000</td>\n",
       "      <td>143.900000</td>\n",
       "      <td>144.380000</td>\n",
       "      <td>52279761</td>\n",
       "      <td>0.0</td>\n",
       "      <td>1.0</td>\n",
       "    </tr>\n",
       "    <tr>\n",
       "      <th>1257</th>\n",
       "      <td>AAPL</td>\n",
       "      <td>2023-03-03 00:00:00+00:00</td>\n",
       "      <td>151.03</td>\n",
       "      <td>151.1100</td>\n",
       "      <td>147.33</td>\n",
       "      <td>148.045</td>\n",
       "      <td>70732297</td>\n",
       "      <td>151.030000</td>\n",
       "      <td>151.110000</td>\n",
       "      <td>147.330000</td>\n",
       "      <td>148.045000</td>\n",
       "      <td>70732297</td>\n",
       "      <td>0.0</td>\n",
       "      <td>1.0</td>\n",
       "    </tr>\n",
       "  </tbody>\n",
       "</table>\n",
       "<p>1258 rows × 14 columns</p>\n",
       "</div>"
      ],
      "text/plain": [
       "     symbol                       date   close      high     low     open  \\\n",
       "0      AAPL  2018-03-06 00:00:00+00:00  176.67  178.2500  176.13  177.910   \n",
       "1      AAPL  2018-03-07 00:00:00+00:00  175.03  175.8500  174.27  174.940   \n",
       "2      AAPL  2018-03-08 00:00:00+00:00  176.94  177.1200  175.07  175.480   \n",
       "3      AAPL  2018-03-09 00:00:00+00:00  179.98  180.0000  177.39  177.960   \n",
       "4      AAPL  2018-03-12 00:00:00+00:00  181.72  182.3900  180.21  180.290   \n",
       "...     ...                        ...     ...       ...     ...      ...   \n",
       "1253   AAPL  2023-02-27 00:00:00+00:00  147.92  149.1700  147.45  147.710   \n",
       "1254   AAPL  2023-02-28 00:00:00+00:00  147.41  149.0800  146.83  147.050   \n",
       "1255   AAPL  2023-03-01 00:00:00+00:00  145.31  147.2285  145.01  146.830   \n",
       "1256   AAPL  2023-03-02 00:00:00+00:00  145.91  146.7100  143.90  144.380   \n",
       "1257   AAPL  2023-03-03 00:00:00+00:00  151.03  151.1100  147.33  148.045   \n",
       "\n",
       "        volume    adjClose     adjHigh      adjLow     adjOpen  adjVolume  \\\n",
       "0     23788506   42.048801   42.424853   41.920277   42.343931   95154024   \n",
       "1     31703462   41.658469   41.853635   41.477583   41.637048  126813848   \n",
       "2     23163767   42.113063   42.155905   41.667989   41.765572   92655068   \n",
       "3     31385134   42.836607   42.841367   42.220167   42.355831  125540536   \n",
       "4     32055405   43.250740   43.410205   42.891348   42.910389  128221620   \n",
       "...        ...         ...         ...         ...         ...        ...   \n",
       "1253  44998470  147.920000  149.170000  147.450000  147.710000   44998470   \n",
       "1254  50546998  147.410000  149.080000  146.830000  147.050000   50546998   \n",
       "1255  55478991  145.310000  147.228500  145.010000  146.830000   55478991   \n",
       "1256  52279761  145.910000  146.710000  143.900000  144.380000   52279761   \n",
       "1257  70732297  151.030000  151.110000  147.330000  148.045000   70732297   \n",
       "\n",
       "      divCash  splitFactor  \n",
       "0         0.0          1.0  \n",
       "1         0.0          1.0  \n",
       "2         0.0          1.0  \n",
       "3         0.0          1.0  \n",
       "4         0.0          1.0  \n",
       "...       ...          ...  \n",
       "1253      0.0          1.0  \n",
       "1254      0.0          1.0  \n",
       "1255      0.0          1.0  \n",
       "1256      0.0          1.0  \n",
       "1257      0.0          1.0  \n",
       "\n",
       "[1258 rows x 14 columns]"
      ]
     },
     "execution_count": 20,
     "metadata": {},
     "output_type": "execute_result"
    }
   ],
   "source": [
    "df"
   ]
  },
  {
   "cell_type": "code",
   "execution_count": 21,
   "metadata": {},
   "outputs": [],
   "source": [
    "df1 = df.reset_index()['close']"
   ]
  },
  {
   "cell_type": "code",
   "execution_count": 22,
   "metadata": {},
   "outputs": [
    {
     "data": {
      "text/plain": [
       "0       176.67\n",
       "1       175.03\n",
       "2       176.94\n",
       "3       179.98\n",
       "4       181.72\n",
       "         ...  \n",
       "1253    147.92\n",
       "1254    147.41\n",
       "1255    145.31\n",
       "1256    145.91\n",
       "1257    151.03\n",
       "Name: close, Length: 1258, dtype: float64"
      ]
     },
     "execution_count": 22,
     "metadata": {},
     "output_type": "execute_result"
    }
   ],
   "source": [
    "df1"
   ]
  },
  {
   "cell_type": "code",
   "execution_count": 23,
   "metadata": {},
   "outputs": [
    {
     "data": {
      "text/plain": [
       "[<matplotlib.lines.Line2D at 0x7f14c7a1d7c0>]"
      ]
     },
     "execution_count": 23,
     "metadata": {},
     "output_type": "execute_result"
    },
    {
     "data": {
      "image/png": "[encoded data removed]",
      "text/plain": [
       "<Figure size 640x480 with 1 Axes>"
      ]
     },
     "metadata": {},
     "output_type": "display_data"
    }
   ],
   "source": [
    "# !pip install matplotlib\n",
    "import matplotlib.pyplot as plt\n",
    "plt.plot(df1)"
   ]
  },
  {
   "cell_type": "code",
   "execution_count": 24,
   "metadata": {},
   "outputs": [],
   "source": [
    "# !pip install numpy\n",
    "import numpy as np"
   ]
  },
  {
   "cell_type": "code",
   "execution_count": 25,
   "metadata": {},
   "outputs": [],
   "source": [
    "# Scaling data due to LSTM scale sensitivity\n",
    "# !pip install scikit-learn\n",
    "from sklearn.preprocessing import MinMaxScaler\n",
    "scaler = MinMaxScaler(feature_range = (0,1))\n",
    "df1 = scaler.fit_transform(np.array(df1).reshape(-1,1))"
   ]
  },
  {
   "cell_type": "code",
   "execution_count": 26,
   "metadata": {},
   "outputs": [
    {
     "data": {
      "text/plain": [
       "array([[0.17490294],\n",
       "       [0.17079524],\n",
       "       [0.17557921],\n",
       "       ...,\n",
       "       [0.09635567],\n",
       "       [0.09785848],\n",
       "       [0.11068253]])"
      ]
     },
     "execution_count": 26,
     "metadata": {},
     "output_type": "execute_result"
    }
   ],
   "source": [
    "df1"
   ]
  },
  {
   "cell_type": "code",
   "execution_count": 27,
   "metadata": {},
   "outputs": [],
   "source": [
    "# splitting dataset into train and test  \n",
    "training_size = int(len(df1)*0.65)\n",
    "test_size = len(df1) - training_size\n"
   ]
  },
  {
   "cell_type": "code",
   "execution_count": 28,
   "metadata": {},
   "outputs": [
    {
     "data": {
      "text/plain": [
       "(817, 441)"
      ]
     },
     "execution_count": 28,
     "metadata": {},
     "output_type": "execute_result"
    }
   ],
   "source": [
    "training_size,test_size"
   ]
  },
  {
   "cell_type": "code",
   "execution_count": 29,
   "metadata": {},
   "outputs": [],
   "source": [
    "train_data,test_data = df1[0:training_size], df1[training_size:len(df1),:1]"
   ]
  },
  {
   "cell_type": "code",
   "execution_count": 30,
   "metadata": {},
   "outputs": [
    {
     "data": {
      "text/plain": [
       "(817, 441)"
      ]
     },
     "execution_count": 30,
     "metadata": {},
     "output_type": "execute_result"
    }
   ],
   "source": [
    "len(train_data), len(test_data)"
   ]
  },
  {
   "cell_type": "code",
   "execution_count": 31,
   "metadata": {},
   "outputs": [],
   "source": [
    "import numpy as np\n",
    "\n",
    "# convert an array of values into a dataset matrix\n",
    "# basically converting the data in 3 columns in sequential order like windowed function\n",
    "\n",
    "def create_dataset(dataset,time_step=1):\n",
    "    dataX, dataY = [],[]\n",
    "    for i in range(len(dataset)-time_step-1):\n",
    "        a = dataset[i:(i+time_step),0]\n",
    "        dataX.append(a)\n",
    "        dataY.append(dataset[i + time_step,0])\n",
    "    return np.array(dataX),np.array(dataY)"
   ]
  },
  {
   "cell_type": "code",
   "execution_count": 32,
   "metadata": {},
   "outputs": [],
   "source": [
    "# reshape into x=t, t+1, t+2, t+3 and y=t+4\n",
    "time_step = 100\n",
    "X_train, Y_train = create_dataset(train_data,time_step)\n",
    "X_test, Y_test = create_dataset(test_data, time_step)"
   ]
  },
  {
   "cell_type": "code",
   "execution_count": 33,
   "metadata": {},
   "outputs": [
    {
     "data": {
      "text/plain": [
       "((716, 100), (340, 100), (716,), (340,))"
      ]
     },
     "execution_count": 33,
     "metadata": {},
     "output_type": "execute_result"
    }
   ],
   "source": [
    "X_train.shape, X_test.shape,Y_train.shape,Y_test.shape"
   ]
  },
  {
   "cell_type": "code",
   "execution_count": 34,
   "metadata": {},
   "outputs": [],
   "source": [
    "# reshape input to be [samples,time steps, features] which is required for LSTM\n",
    "X_train = X_train.reshape(X_train.shape[0],X_train.shape[1], 1)\n",
    "X_test = X_test.reshape(X_test.shape[0],X_test.shape[1], 1)"
   ]
  },
  {
   "cell_type": "code",
   "execution_count": 35,
   "metadata": {},
   "outputs": [
    {
     "name": "stdout",
     "output_type": "stream",
     "text": [
      "Defaulting to user installation because normal site-packages is not writeable\n",
      "Collecting tensorflow\n",
      "  Downloading tensorflow-2.11.0-cp39-cp39-manylinux_2_17_x86_64.manylinux2014_x86_64.whl (588.3 MB)\n",
      "\u001b[2K     \u001b[90m━━━━━━━━━━━━━━━━━━━━━━━━━━━━━━━━━━━━━━━\u001b[0m \u001b[32m588.3/588.3 MB\u001b[0m \u001b[31m2.6 MB/s\u001b[0m eta \u001b[36m0:00:00\u001b[0m00:01\u001b[0m00:01\u001b[0m\n",
      "\u001b[?25hCollecting h5py>=2.9.0\n",
      "  Downloading h5py-3.8.0-cp39-cp39-manylinux_2_17_x86_64.manylinux2014_x86_64.whl (4.7 MB)\n",
      "\u001b[2K     \u001b[90m━━━━━━━━━━━━━━━━━━━━━━━━━━━━━━━━━━━━━━━━\u001b[0m \u001b[32m4.7/4.7 MB\u001b[0m \u001b[31m74.7 MB/s\u001b[0m eta \u001b[36m0:00:00\u001b[0mta \u001b[36m0:00:01\u001b[0m\n",
      "\u001b[?25hCollecting astunparse>=1.6.0\n",
      "  Downloading astunparse-1.6.3-py2.py3-none-any.whl (12 kB)\n",
      "Collecting protobuf<3.20,>=3.9.2\n",
      "  Downloading protobuf-3.19.6-cp39-cp39-manylinux_2_17_x86_64.manylinux2014_x86_64.whl (1.1 MB)\n",
      "\u001b[2K     \u001b[90m━━━━━━━━━━━━━━━━━━━━━━━━━━━━━━━━━━━━━━━━\u001b[0m \u001b[32m1.1/1.1 MB\u001b[0m \u001b[31m68.5 MB/s\u001b[0m eta \u001b[36m0:00:00\u001b[0m\n",
      "\u001b[?25hCollecting libclang>=13.0.0\n",
      "  Downloading libclang-15.0.6.1-py2.py3-none-manylinux2010_x86_64.whl (21.5 MB)\n",
      "\u001b[2K     \u001b[90m━━━━━━━━━━━━━━━━━━━━━━━━━━━━━━━━━━━━━━━━\u001b[0m \u001b[32m21.5/21.5 MB\u001b[0m \u001b[31m53.8 MB/s\u001b[0m eta \u001b[36m0:00:00\u001b[0m00:01\u001b[0m00:01\u001b[0m\n",
      "\u001b[?25hCollecting grpcio<2.0,>=1.24.3\n",
      "  Downloading grpcio-1.51.3-cp39-cp39-manylinux_2_17_x86_64.manylinux2014_x86_64.whl (4.8 MB)\n",
      "\u001b[2K     \u001b[90m━━━━━━━━━━━━━━━━━━━━━━━━━━━━━━━━━━━━━━━━\u001b[0m \u001b[32m4.8/4.8 MB\u001b[0m \u001b[31m70.8 MB/s\u001b[0m eta \u001b[36m0:00:00\u001b[0ma \u001b[36m0:00:01\u001b[0m\n",
      "\u001b[?25hRequirement already satisfied: six>=1.12.0 in /config/.local/lib/python3.9/site-packages (from tensorflow) (1.16.0)\n",
      "Requirement already satisfied: setuptools in /usr/local/conda/lib/python3.9/site-packages (from tensorflow) (65.5.0)\n",
      "Collecting wrapt>=1.11.0\n",
      "  Downloading wrapt-1.15.0-cp39-cp39-manylinux_2_5_x86_64.manylinux1_x86_64.manylinux_2_17_x86_64.manylinux2014_x86_64.whl (78 kB)\n",
      "\u001b[2K     \u001b[90m━━━━━━━━━━━━━━━━━━━━━━━━━━━━━━━━━━━━━━━━\u001b[0m \u001b[32m78.3/78.3 kB\u001b[0m \u001b[31m14.0 MB/s\u001b[0m eta \u001b[36m0:00:00\u001b[0m\n",
      "\u001b[?25hCollecting tensorboard<2.12,>=2.11\n",
      "  Downloading tensorboard-2.11.2-py3-none-any.whl (6.0 MB)\n",
      "\u001b[2K     \u001b[90m━━━━━━━━━━━━━━━━━━━━━━━━━━━━━━━━━━━━━━━━\u001b[0m \u001b[32m6.0/6.0 MB\u001b[0m \u001b[31m73.3 MB/s\u001b[0m eta \u001b[36m0:00:00\u001b[0m00:01\u001b[0m:00:01\u001b[0m\n",
      "\u001b[?25hCollecting google-pasta>=0.1.1\n",
      "  Downloading google_pasta-0.2.0-py3-none-any.whl (57 kB)\n",
      "\u001b[2K     \u001b[90m━━━━━━━━━━━━━━━━━━━━━━━━━━━━━━━━━━━━━━━━\u001b[0m \u001b[32m57.5/57.5 kB\u001b[0m \u001b[31m9.3 MB/s\u001b[0m eta \u001b[36m0:00:00\u001b[0m\n",
      "\u001b[?25hCollecting gast<=0.4.0,>=0.2.1\n",
      "  Downloading gast-0.4.0-py3-none-any.whl (9.8 kB)\n",
      "Collecting flatbuffers>=2.0\n",
      "  Downloading flatbuffers-23.3.3-py2.py3-none-any.whl (26 kB)\n",
      "Collecting tensorflow-io-gcs-filesystem>=0.23.1\n",
      "  Downloading tensorflow_io_gcs_filesystem-0.31.0-cp39-cp39-manylinux_2_12_x86_64.manylinux2010_x86_64.whl (2.4 MB)\n",
      "\u001b[2K     \u001b[90m━━━━━━━━━━━━━━━━━━━━━━━━━━━━━━━━━━━━━━━━\u001b[0m \u001b[32m2.4/2.4 MB\u001b[0m \u001b[31m65.0 MB/s\u001b[0m eta \u001b[36m0:00:00\u001b[0m00:01\u001b[0m\n",
      "\u001b[?25hCollecting tensorflow-estimator<2.12,>=2.11.0\n",
      "  Downloading tensorflow_estimator-2.11.0-py2.py3-none-any.whl (439 kB)\n",
      "\u001b[2K     \u001b[90m━━━━━━━━━━━━━━━━━━━━━━━━━━━━━━━━━━━━━━\u001b[0m \u001b[32m439.2/439.2 kB\u001b[0m \u001b[31m51.9 MB/s\u001b[0m eta \u001b[36m0:00:00\u001b[0m\n",
      "\u001b[?25hCollecting keras<2.12,>=2.11.0\n",
      "  Downloading keras-2.11.0-py2.py3-none-any.whl (1.7 MB)\n",
      "\u001b[2K     \u001b[90m━━━━━━━━━━━━━━━━━━━━━━━━━━━━━━━━━━━━━━━━\u001b[0m \u001b[32m1.7/1.7 MB\u001b[0m \u001b[31m65.4 MB/s\u001b[0m eta \u001b[36m0:00:00\u001b[0m\n",
      "\u001b[?25hCollecting termcolor>=1.1.0\n",
      "  Downloading termcolor-2.2.0-py3-none-any.whl (6.6 kB)\n",
      "Collecting absl-py>=1.0.0\n",
      "  Downloading absl_py-1.4.0-py3-none-any.whl (126 kB)\n",
      "\u001b[2K     \u001b[90m━━━━━━━━━━━━━━━━━━━━━━━━━━━━━━━━━━━━━━\u001b[0m \u001b[32m126.5/126.5 kB\u001b[0m \u001b[31m22.8 MB/s\u001b[0m eta \u001b[36m0:00:00\u001b[0m\n",
      "\u001b[?25hRequirement already satisfied: packaging in /config/.local/lib/python3.9/site-packages (from tensorflow) (23.0)\n",
      "Collecting typing-extensions>=3.6.6\n",
      "  Downloading typing_extensions-4.5.0-py3-none-any.whl (27 kB)\n",
      "Requirement already satisfied: numpy>=1.20 in /config/.local/lib/python3.9/site-packages (from tensorflow) (1.24.2)\n",
      "Collecting opt-einsum>=2.3.2\n",
      "  Downloading opt_einsum-3.3.0-py3-none-any.whl (65 kB)\n",
      "\u001b[2K     \u001b[90m━━━━━━━━━━━━━━━━━━━━━━━━━━━━━━━━━━━━━━━━\u001b[0m \u001b[32m65.5/65.5 kB\u001b[0m \u001b[31m12.6 MB/s\u001b[0m eta \u001b[36m0:00:00\u001b[0m\n",
      "\u001b[?25hRequirement already satisfied: wheel<1.0,>=0.23.0 in /usr/local/conda/lib/python3.9/site-packages (from astunparse>=1.6.0->tensorflow) (0.37.1)\n",
      "Requirement already satisfied: requests<3,>=2.21.0 in /usr/local/conda/lib/python3.9/site-packages (from tensorboard<2.12,>=2.11->tensorflow) (2.28.1)\n",
      "Collecting google-auth-oauthlib<0.5,>=0.4.1\n",
      "  Downloading google_auth_oauthlib-0.4.6-py2.py3-none-any.whl (18 kB)\n",
      "Collecting markdown>=2.6.8\n",
      "  Downloading Markdown-3.4.1-py3-none-any.whl (93 kB)\n",
      "\u001b[2K     \u001b[90m━━━━━━━━━━━━━━━━━━━━━━━━━━━━━━━━━━━━━━━━\u001b[0m \u001b[32m93.3/93.3 kB\u001b[0m \u001b[31m17.5 MB/s\u001b[0m eta \u001b[36m0:00:00\u001b[0m\n",
      "\u001b[?25hCollecting tensorboard-plugin-wit>=1.6.0\n",
      "  Downloading tensorboard_plugin_wit-1.8.1-py3-none-any.whl (781 kB)\n",
      "\u001b[2K     \u001b[90m━━━━━━━━━━━━━━━━━━━━━━━━━━━━━━━━━━━━━━\u001b[0m \u001b[32m781.3/781.3 kB\u001b[0m \u001b[31m63.5 MB/s\u001b[0m eta \u001b[36m0:00:00\u001b[0m\n",
      "\u001b[?25hCollecting google-auth<3,>=1.6.3\n",
      "  Downloading google_auth-2.16.2-py2.py3-none-any.whl (177 kB)\n",
      "\u001b[2K     \u001b[90m━━━━━━━━━━━━━━━━━━━━━━━━━━━━━━━━━━━━━━\u001b[0m \u001b[32m177.2/177.2 kB\u001b[0m \u001b[31m28.9 MB/s\u001b[0m eta \u001b[36m0:00:00\u001b[0m\n",
      "\u001b[?25hCollecting tensorboard-data-server<0.7.0,>=0.6.0\n",
      "  Downloading tensorboard_data_server-0.6.1-py3-none-manylinux2010_x86_64.whl (4.9 MB)\n",
      "\u001b[2K     \u001b[90m━━━━━━━━━━━━━━━━━━━━━━━━━━━━━━━━━━━━━━━━\u001b[0m \u001b[32m4.9/4.9 MB\u001b[0m \u001b[31m72.7 MB/s\u001b[0m eta \u001b[36m0:00:00\u001b[0ma \u001b[36m0:00:01\u001b[0m\n",
      "\u001b[?25hRequirement already satisfied: werkzeug>=1.0.1 in /config/.local/lib/python3.9/site-packages (from tensorboard<2.12,>=2.11->tensorflow) (2.2.3)\n",
      "Collecting pyasn1-modules>=0.2.1\n",
      "  Downloading pyasn1_modules-0.2.8-py2.py3-none-any.whl (155 kB)\n",
      "\u001b[2K     \u001b[90m━━━━━━━━━━━━━━━━━━━━━━━━━━━━━━━━━━━━━━\u001b[0m \u001b[32m155.3/155.3 kB\u001b[0m \u001b[31m23.1 MB/s\u001b[0m eta \u001b[36m0:00:00\u001b[0m\n",
      "\u001b[?25hCollecting rsa<5,>=3.1.4\n",
      "  Downloading rsa-4.9-py3-none-any.whl (34 kB)\n",
      "Collecting cachetools<6.0,>=2.0.0\n",
      "  Downloading cachetools-5.3.0-py3-none-any.whl (9.3 kB)\n",
      "Collecting requests-oauthlib>=0.7.0\n",
      "  Downloading requests_oauthlib-1.3.1-py2.py3-none-any.whl (23 kB)\n",
      "Requirement already satisfied: importlib-metadata>=4.4 in /config/.local/lib/python3.9/site-packages (from markdown>=2.6.8->tensorboard<2.12,>=2.11->tensorflow) (6.0.0)\n",
      "Requirement already satisfied: idna<4,>=2.5 in /usr/local/conda/lib/python3.9/site-packages (from requests<3,>=2.21.0->tensorboard<2.12,>=2.11->tensorflow) (3.4)\n",
      "Requirement already satisfied: urllib3<1.27,>=1.21.1 in /usr/local/conda/lib/python3.9/site-packages (from requests<3,>=2.21.0->tensorboard<2.12,>=2.11->tensorflow) (1.26.13)\n",
      "Requirement already satisfied: charset-normalizer<3,>=2 in /usr/local/conda/lib/python3.9/site-packages (from requests<3,>=2.21.0->tensorboard<2.12,>=2.11->tensorflow) (2.0.4)\n",
      "Requirement already satisfied: certifi>=2017.4.17 in /usr/local/conda/lib/python3.9/site-packages (from requests<3,>=2.21.0->tensorboard<2.12,>=2.11->tensorflow) (2022.9.24)\n",
      "Requirement already satisfied: MarkupSafe>=2.1.1 in /config/.local/lib/python3.9/site-packages (from werkzeug>=1.0.1->tensorboard<2.12,>=2.11->tensorflow) (2.1.2)\n",
      "Requirement already satisfied: zipp>=0.5 in /config/.local/lib/python3.9/site-packages (from importlib-metadata>=4.4->markdown>=2.6.8->tensorboard<2.12,>=2.11->tensorflow) (3.15.0)\n",
      "Collecting pyasn1<0.5.0,>=0.4.6\n",
      "  Downloading pyasn1-0.4.8-py2.py3-none-any.whl (77 kB)\n",
      "\u001b[2K     \u001b[90m━━━━━━━━━━━━━━━━━━━━━━━━━━━━━━━━━━━━━━━━\u001b[0m \u001b[32m77.1/77.1 kB\u001b[0m \u001b[31m13.5 MB/s\u001b[0m eta \u001b[36m0:00:00\u001b[0m\n",
      "\u001b[?25hCollecting oauthlib>=3.0.0\n",
      "  Downloading oauthlib-3.2.2-py3-none-any.whl (151 kB)\n",
      "\u001b[2K     \u001b[90m━━━━━━━━━━━━━━━━━━━━━━━━━━━━━━━━━━━━━━\u001b[0m \u001b[32m151.7/151.7 kB\u001b[0m \u001b[31m21.4 MB/s\u001b[0m eta \u001b[36m0:00:00\u001b[0m\n",
      "\u001b[?25hInstalling collected packages: tensorboard-plugin-wit, pyasn1, libclang, flatbuffers, wrapt, typing-extensions, termcolor, tensorflow-io-gcs-filesystem, tensorflow-estimator, tensorboard-data-server, rsa, pyasn1-modules, protobuf, opt-einsum, oauthlib, keras, h5py, grpcio, google-pasta, gast, cachetools, astunparse, absl-py, requests-oauthlib, markdown, google-auth, google-auth-oauthlib, tensorboard, tensorflow\n",
      "\u001b[33m  WARNING: The scripts pyrsa-decrypt, pyrsa-encrypt, pyrsa-keygen, pyrsa-priv2pub, pyrsa-sign and pyrsa-verify are installed in '/config/.local/bin' which is not on PATH.\n",
      "  Consider adding this directory to PATH or, if you prefer to suppress this warning, use --no-warn-script-location.\u001b[0m\u001b[33m\n",
      "\u001b[0m\u001b[33m  WARNING: The script markdown_py is installed in '/config/.local/bin' which is not on PATH.\n",
      "  Consider adding this directory to PATH or, if you prefer to suppress this warning, use --no-warn-script-location.\u001b[0m\u001b[33m\n",
      "\u001b[0m\u001b[33m  WARNING: The script google-oauthlib-tool is installed in '/config/.local/bin' which is not on PATH.\n",
      "  Consider adding this directory to PATH or, if you prefer to suppress this warning, use --no-warn-script-location.\u001b[0m\u001b[33m\n",
      "\u001b[0m\u001b[33m  WARNING: The script tensorboard is installed in '/config/.local/bin' which is not on PATH.\n",
      "  Consider adding this directory to PATH or, if you prefer to suppress this warning, use --no-warn-script-location.\u001b[0m\u001b[33m\n",
      "\u001b[0m\u001b[33m  WARNING: The scripts estimator_ckpt_converter, import_pb_to_tensorboard, saved_model_cli, tensorboard, tf_upgrade_v2, tflite_convert, toco and toco_from_protos are installed in '/config/.local/bin' which is not on PATH.\n",
      "  Consider adding this directory to PATH or, if you prefer to suppress this warning, use --no-warn-script-location.\u001b[0m\u001b[33m\n",
      "\u001b[0mSuccessfully installed absl-py-1.4.0 astunparse-1.6.3 cachetools-5.3.0 flatbuffers-23.3.3 gast-0.4.0 google-auth-2.16.2 google-auth-oauthlib-0.4.6 google-pasta-0.2.0 grpcio-1.51.3 h5py-3.8.0 keras-2.11.0 libclang-15.0.6.1 markdown-3.4.1 oauthlib-3.2.2 opt-einsum-3.3.0 protobuf-3.19.6 pyasn1-0.4.8 pyasn1-modules-0.2.8 requests-oauthlib-1.3.1 rsa-4.9 tensorboard-2.11.2 tensorboard-data-server-0.6.1 tensorboard-plugin-wit-1.8.1 tensorflow-2.11.0 tensorflow-estimator-2.11.0 tensorflow-io-gcs-filesystem-0.31.0 termcolor-2.2.0 typing-extensions-4.5.0 wrapt-1.15.0\n",
      "Defaulting to user installation because normal site-packages is not writeable\n",
      "Requirement already satisfied: keras in /config/.local/lib/python3.9/site-packages (2.11.0)\n"
     ]
    }
   ],
   "source": [
    "!pip install tensorflow\n",
    "!pip install keras\n"
   ]
  },
  {
   "cell_type": "code",
   "execution_count": 36,
   "metadata": {},
   "outputs": [
    {
     "name": "stderr",
     "output_type": "stream",
     "text": [
      "2023-03-15 16:06:06.602961: I tensorflow/core/platform/cpu_feature_guard.cc:193] This TensorFlow binary is optimized with oneAPI Deep Neural Network Library (oneDNN) to use the following CPU instructions in performance-critical operations:  AVX2 FMA\n",
      "To enable them in other operations, rebuild TensorFlow with the appropriate compiler flags.\n",
      "2023-03-15 16:06:06.787220: W tensorflow/compiler/xla/stream_executor/platform/default/dso_loader.cc:64] Could not load dynamic library 'libcudart.so.11.0'; dlerror: libcudart.so.11.0: cannot open shared object file: No such file or directory\n",
      "2023-03-15 16:06:06.787250: I tensorflow/compiler/xla/stream_executor/cuda/cudart_stub.cc:29] Ignore above cudart dlerror if you do not have a GPU set up on your machine.\n",
      "2023-03-15 16:06:07.655437: W tensorflow/compiler/xla/stream_executor/platform/default/dso_loader.cc:64] Could not load dynamic library 'libnvinfer.so.7'; dlerror: libnvinfer.so.7: cannot open shared object file: No such file or directory\n",
      "2023-03-15 16:06:07.655569: W tensorflow/compiler/xla/stream_executor/platform/default/dso_loader.cc:64] Could not load dynamic library 'libnvinfer_plugin.so.7'; dlerror: libnvinfer_plugin.so.7: cannot open shared object file: No such file or directory\n",
      "2023-03-15 16:06:07.655579: W tensorflow/compiler/tf2tensorrt/utils/py_utils.cc:38] TF-TRT Warning: Cannot dlopen some TensorRT libraries. If you would like to use Nvidia GPU with TensorRT, please make sure the missing libraries mentioned above are installed properly.\n"
     ]
    }
   ],
   "source": [
    "# ctrate the STACKED LSTM model\n",
    "import keras\n",
    "from tensorflow.keras.models import Sequential\n",
    "from tensorflow.keras.layers import Dense\n",
    "from tensorflow.keras.layers import LSTM"
   ]
  },
  {
   "cell_type": "code",
   "execution_count": 37,
   "metadata": {},
   "outputs": [
    {
     "name": "stderr",
     "output_type": "stream",
     "text": [
      "2023-03-15 16:06:08.503451: W tensorflow/compiler/xla/stream_executor/platform/default/dso_loader.cc:64] Could not load dynamic library 'libcuda.so.1'; dlerror: libcuda.so.1: cannot open shared object file: No such file or directory\n",
      "2023-03-15 16:06:08.503503: W tensorflow/compiler/xla/stream_executor/cuda/cuda_driver.cc:265] failed call to cuInit: UNKNOWN ERROR (303)\n",
      "2023-03-15 16:06:08.503532: I tensorflow/compiler/xla/stream_executor/cuda/cuda_diagnostics.cc:156] kernel driver does not appear to be running on this host (f2d33823f950): /proc/driver/nvidia/version does not exist\n",
      "2023-03-15 16:06:08.503795: I tensorflow/core/platform/cpu_feature_guard.cc:193] This TensorFlow binary is optimized with oneAPI Deep Neural Network Library (oneDNN) to use the following CPU instructions in performance-critical operations:  AVX2 FMA\n",
      "To enable them in other operations, rebuild TensorFlow with the appropriate compiler flags.\n"
     ]
    }
   ],
   "source": [
    "model = Sequential()\n",
    "model.add(LSTM(50,return_sequences=True,input_shape=(100,1)))\n",
    "model.add(LSTM(50,return_sequences=True))\n",
    "model.add(LSTM(50))\n",
    "model.add(Dense(1))\n",
    "model.compile(loss='mean_squared_error',optimizer='adam')"
   ]
  },
  {
   "cell_type": "code",
   "execution_count": 38,
   "metadata": {},
   "outputs": [
    {
     "name": "stdout",
     "output_type": "stream",
     "text": [
      "Model: \"sequential\"\n",
      "_________________________________________________________________\n",
      " Layer (type)                Output Shape              Param #   \n",
      "=================================================================\n",
      " lstm (LSTM)                 (None, 100, 50)           10400     \n",
      "                                                                 \n",
      " lstm_1 (LSTM)               (None, 100, 50)           20200     \n",
      "                                                                 \n",
      " lstm_2 (LSTM)               (None, 50)                20200     \n",
      "                                                                 \n",
      " dense (Dense)               (None, 1)                 51        \n",
      "                                                                 \n",
      "=================================================================\n",
      "Total params: 50,851\n",
      "Trainable params: 50,851\n",
      "Non-trainable params: 0\n",
      "_________________________________________________________________\n"
     ]
    }
   ],
   "source": [
    "model.summary()"
   ]
  },
  {
   "cell_type": "code",
   "execution_count": 39,
   "metadata": {},
   "outputs": [
    {
     "name": "stdout",
     "output_type": "stream",
     "text": [
      "Epoch 1/100\n",
      "12/12 [==============================] - 10s 327ms/step - loss: 0.0430 - val_loss: 0.0028\n",
      "Epoch 2/100\n",
      "12/12 [==============================] - 3s 215ms/step - loss: 0.0136 - val_loss: 0.0010\n",
      "Epoch 3/100\n",
      "12/12 [==============================] - 2s 209ms/step - loss: 0.0111 - val_loss: 5.3344e-04\n",
      "Epoch 4/100\n",
      "12/12 [==============================] - 3s 216ms/step - loss: 0.0105 - val_loss: 6.4203e-04\n",
      "Epoch 5/100\n",
      "12/12 [==============================] - 3s 220ms/step - loss: 0.0091 - val_loss: 6.6718e-04\n",
      "Epoch 6/100\n",
      "12/12 [==============================] - 3s 213ms/step - loss: 0.0082 - val_loss: 7.0618e-04\n",
      "Epoch 7/100\n",
      "12/12 [==============================] - 3s 215ms/step - loss: 0.0081 - val_loss: 0.0013\n",
      "Epoch 8/100\n",
      "12/12 [==============================] - 3s 214ms/step - loss: 0.0064 - val_loss: 4.4397e-04\n",
      "Epoch 9/100\n",
      "12/12 [==============================] - 3s 224ms/step - loss: 0.0058 - val_loss: 9.0134e-04\n",
      "Epoch 10/100\n",
      "12/12 [==============================] - 3s 213ms/step - loss: 0.0055 - val_loss: 5.8538e-04\n",
      "Epoch 11/100\n",
      "12/12 [==============================] - 3s 216ms/step - loss: 0.0048 - val_loss: 6.8878e-04\n",
      "Epoch 12/100\n",
      "12/12 [==============================] - 3s 218ms/step - loss: 0.0046 - val_loss: 4.1091e-04\n",
      "Epoch 13/100\n",
      "12/12 [==============================] - 3s 212ms/step - loss: 0.0043 - val_loss: 3.3929e-04\n",
      "Epoch 14/100\n",
      "12/12 [==============================] - 3s 219ms/step - loss: 0.0037 - val_loss: 4.8315e-04\n",
      "Epoch 15/100\n",
      "12/12 [==============================] - 2s 209ms/step - loss: 0.0035 - val_loss: 3.2174e-04\n",
      "Epoch 16/100\n",
      "12/12 [==============================] - 3s 219ms/step - loss: 0.0036 - val_loss: 3.5869e-04\n",
      "Epoch 17/100\n",
      "12/12 [==============================] - 3s 213ms/step - loss: 0.0035 - val_loss: 2.9746e-04\n",
      "Epoch 18/100\n",
      "12/12 [==============================] - 3s 216ms/step - loss: 0.0028 - val_loss: 2.9364e-04\n",
      "Epoch 19/100\n",
      "12/12 [==============================] - 3s 226ms/step - loss: 0.0028 - val_loss: 3.1244e-04\n",
      "Epoch 20/100\n",
      "12/12 [==============================] - 3s 219ms/step - loss: 0.0026 - val_loss: 2.9656e-04\n",
      "Epoch 21/100\n",
      "12/12 [==============================] - 3s 218ms/step - loss: 0.0025 - val_loss: 3.1367e-04\n",
      "Epoch 22/100\n",
      "12/12 [==============================] - 3s 213ms/step - loss: 0.0026 - val_loss: 2.9571e-04\n",
      "Epoch 23/100\n",
      "12/12 [==============================] - 3s 221ms/step - loss: 0.0028 - val_loss: 2.6580e-04\n",
      "Epoch 24/100\n",
      "12/12 [==============================] - 3s 219ms/step - loss: 0.0024 - val_loss: 4.0065e-04\n",
      "Epoch 25/100\n",
      "12/12 [==============================] - 3s 213ms/step - loss: 0.0033 - val_loss: 8.7406e-04\n",
      "Epoch 26/100\n",
      "12/12 [==============================] - 2s 208ms/step - loss: 0.0033 - val_loss: 6.8890e-04\n",
      "Epoch 27/100\n",
      "12/12 [==============================] - 3s 214ms/step - loss: 0.0044 - val_loss: 0.0012\n",
      "Epoch 28/100\n",
      "12/12 [==============================] - 3s 217ms/step - loss: 0.0034 - val_loss: 2.7918e-04\n",
      "Epoch 29/100\n",
      "12/12 [==============================] - 3s 218ms/step - loss: 0.0026 - val_loss: 2.7391e-04\n",
      "Epoch 30/100\n",
      "12/12 [==============================] - 3s 215ms/step - loss: 0.0022 - val_loss: 2.7679e-04\n",
      "Epoch 31/100\n",
      "12/12 [==============================] - 2s 209ms/step - loss: 0.0022 - val_loss: 2.9661e-04\n",
      "Epoch 32/100\n",
      "12/12 [==============================] - 3s 211ms/step - loss: 0.0019 - val_loss: 2.8227e-04\n",
      "Epoch 33/100\n",
      "12/12 [==============================] - 2s 206ms/step - loss: 0.0020 - val_loss: 2.7555e-04\n",
      "Epoch 34/100\n",
      "12/12 [==============================] - 3s 212ms/step - loss: 0.0027 - val_loss: 6.7421e-04\n",
      "Epoch 35/100\n",
      "12/12 [==============================] - 3s 215ms/step - loss: 0.0022 - val_loss: 2.7974e-04\n",
      "Epoch 36/100\n",
      "12/12 [==============================] - 3s 218ms/step - loss: 0.0021 - val_loss: 2.7185e-04\n",
      "Epoch 37/100\n",
      "12/12 [==============================] - 3s 221ms/step - loss: 0.0027 - val_loss: 3.1117e-04\n",
      "Epoch 38/100\n",
      "12/12 [==============================] - 3s 222ms/step - loss: 0.0022 - val_loss: 4.4982e-04\n",
      "Epoch 39/100\n",
      "12/12 [==============================] - 3s 213ms/step - loss: 0.0023 - val_loss: 3.6444e-04\n",
      "Epoch 40/100\n",
      "12/12 [==============================] - 2s 208ms/step - loss: 0.0025 - val_loss: 3.6658e-04\n",
      "Epoch 41/100\n",
      "12/12 [==============================] - 3s 217ms/step - loss: 0.0018 - val_loss: 3.4170e-04\n",
      "Epoch 42/100\n",
      "12/12 [==============================] - 3s 217ms/step - loss: 0.0026 - val_loss: 2.7419e-04\n",
      "Epoch 43/100\n",
      "12/12 [==============================] - 3s 216ms/step - loss: 0.0021 - val_loss: 2.8998e-04\n",
      "Epoch 44/100\n",
      "12/12 [==============================] - 3s 221ms/step - loss: 0.0019 - val_loss: 2.8707e-04\n",
      "Epoch 45/100\n",
      "12/12 [==============================] - 3s 217ms/step - loss: 0.0020 - val_loss: 2.7687e-04\n",
      "Epoch 46/100\n",
      "12/12 [==============================] - 3s 218ms/step - loss: 0.0020 - val_loss: 2.6980e-04\n",
      "Epoch 47/100\n",
      "12/12 [==============================] - 3s 216ms/step - loss: 0.0018 - val_loss: 3.3579e-04\n",
      "Epoch 48/100\n",
      "12/12 [==============================] - 3s 219ms/step - loss: 0.0018 - val_loss: 2.8844e-04\n",
      "Epoch 49/100\n",
      "12/12 [==============================] - 3s 214ms/step - loss: 0.0018 - val_loss: 2.8778e-04\n",
      "Epoch 50/100\n",
      "12/12 [==============================] - 3s 212ms/step - loss: 0.0023 - val_loss: 2.5578e-04\n",
      "Epoch 51/100\n",
      "12/12 [==============================] - 3s 214ms/step - loss: 0.0024 - val_loss: 4.2306e-04\n",
      "Epoch 52/100\n",
      "12/12 [==============================] - 3s 215ms/step - loss: 0.0027 - val_loss: 3.2490e-04\n",
      "Epoch 53/100\n",
      "12/12 [==============================] - 3s 217ms/step - loss: 0.0019 - val_loss: 2.6629e-04\n",
      "Epoch 54/100\n",
      "12/12 [==============================] - 3s 218ms/step - loss: 0.0018 - val_loss: 2.6777e-04\n",
      "Epoch 55/100\n",
      "12/12 [==============================] - 3s 222ms/step - loss: 0.0020 - val_loss: 2.7428e-04\n",
      "Epoch 56/100\n",
      "12/12 [==============================] - 3s 220ms/step - loss: 0.0019 - val_loss: 3.3861e-04\n",
      "Epoch 57/100\n",
      "12/12 [==============================] - 3s 219ms/step - loss: 0.0047 - val_loss: 3.0508e-04\n",
      "Epoch 58/100\n",
      "12/12 [==============================] - 3s 219ms/step - loss: 0.0034 - val_loss: 5.0224e-04\n",
      "Epoch 59/100\n",
      "12/12 [==============================] - 3s 218ms/step - loss: 0.0029 - val_loss: 3.8649e-04\n",
      "Epoch 60/100\n",
      "12/12 [==============================] - 3s 218ms/step - loss: 0.0022 - val_loss: 2.8101e-04\n",
      "Epoch 61/100\n",
      "12/12 [==============================] - 2s 210ms/step - loss: 0.0023 - val_loss: 3.2272e-04\n",
      "Epoch 62/100\n",
      "12/12 [==============================] - 2s 208ms/step - loss: 0.0019 - val_loss: 2.6297e-04\n",
      "Epoch 63/100\n",
      "12/12 [==============================] - 3s 216ms/step - loss: 0.0015 - val_loss: 2.8125e-04\n",
      "Epoch 64/100\n",
      "12/12 [==============================] - 3s 214ms/step - loss: 0.0015 - val_loss: 3.0419e-04\n",
      "Epoch 65/100\n",
      "12/12 [==============================] - 3s 219ms/step - loss: 0.0015 - val_loss: 2.6601e-04\n",
      "Epoch 66/100\n",
      "12/12 [==============================] - 3s 219ms/step - loss: 0.0014 - val_loss: 2.8002e-04\n",
      "Epoch 67/100\n",
      "12/12 [==============================] - 3s 218ms/step - loss: 0.0014 - val_loss: 2.6918e-04\n",
      "Epoch 68/100\n",
      "12/12 [==============================] - 3s 220ms/step - loss: 0.0017 - val_loss: 2.7370e-04\n",
      "Epoch 69/100\n",
      "12/12 [==============================] - 3s 226ms/step - loss: 0.0014 - val_loss: 2.6755e-04\n",
      "Epoch 70/100\n",
      "12/12 [==============================] - 3s 220ms/step - loss: 0.0016 - val_loss: 2.6179e-04\n",
      "Epoch 71/100\n",
      "12/12 [==============================] - 3s 220ms/step - loss: 0.0013 - val_loss: 2.7329e-04\n",
      "Epoch 72/100\n",
      "12/12 [==============================] - 3s 214ms/step - loss: 0.0013 - val_loss: 2.7172e-04\n",
      "Epoch 73/100\n",
      "12/12 [==============================] - 3s 219ms/step - loss: 0.0015 - val_loss: 2.6444e-04\n",
      "Epoch 74/100\n",
      "12/12 [==============================] - 3s 213ms/step - loss: 0.0013 - val_loss: 2.7987e-04\n",
      "Epoch 75/100\n",
      "12/12 [==============================] - 3s 215ms/step - loss: 0.0013 - val_loss: 3.8933e-04\n",
      "Epoch 76/100\n",
      "12/12 [==============================] - 3s 217ms/step - loss: 0.0015 - val_loss: 2.8371e-04\n",
      "Epoch 77/100\n",
      "12/12 [==============================] - 3s 221ms/step - loss: 0.0022 - val_loss: 3.5475e-04\n",
      "Epoch 78/100\n",
      "12/12 [==============================] - 3s 219ms/step - loss: 0.0024 - val_loss: 0.0011\n",
      "Epoch 79/100\n",
      "12/12 [==============================] - 3s 216ms/step - loss: 0.0016 - val_loss: 2.6504e-04\n",
      "Epoch 80/100\n",
      "12/12 [==============================] - 3s 213ms/step - loss: 0.0013 - val_loss: 2.9444e-04\n",
      "Epoch 81/100\n",
      "12/12 [==============================] - 3s 213ms/step - loss: 0.0012 - val_loss: 2.8129e-04\n",
      "Epoch 82/100\n",
      "12/12 [==============================] - 2s 210ms/step - loss: 0.0012 - val_loss: 3.1286e-04\n",
      "Epoch 83/100\n",
      "12/12 [==============================] - 3s 218ms/step - loss: 0.0015 - val_loss: 2.5383e-04\n",
      "Epoch 84/100\n",
      "12/12 [==============================] - 2s 209ms/step - loss: 0.0011 - val_loss: 3.2562e-04\n",
      "Epoch 85/100\n",
      "12/12 [==============================] - 3s 212ms/step - loss: 0.0014 - val_loss: 2.7809e-04\n",
      "Epoch 86/100\n",
      "12/12 [==============================] - 3s 215ms/step - loss: 0.0011 - val_loss: 2.8713e-04\n",
      "Epoch 87/100\n",
      "12/12 [==============================] - 3s 213ms/step - loss: 0.0010 - val_loss: 2.7074e-04\n",
      "Epoch 88/100\n",
      "12/12 [==============================] - 3s 212ms/step - loss: 0.0010 - val_loss: 2.6687e-04\n",
      "Epoch 89/100\n",
      "12/12 [==============================] - 2s 208ms/step - loss: 9.3637e-04 - val_loss: 2.7198e-04\n",
      "Epoch 90/100\n",
      "12/12 [==============================] - 3s 211ms/step - loss: 0.0012 - val_loss: 2.4557e-04\n",
      "Epoch 91/100\n",
      "12/12 [==============================] - 3s 213ms/step - loss: 0.0011 - val_loss: 2.5216e-04\n",
      "Epoch 92/100\n",
      "12/12 [==============================] - 3s 214ms/step - loss: 9.3955e-04 - val_loss: 2.5976e-04\n",
      "Epoch 93/100\n",
      "12/12 [==============================] - 3s 218ms/step - loss: 8.9295e-04 - val_loss: 2.7883e-04\n",
      "Epoch 94/100\n",
      "12/12 [==============================] - 3s 214ms/step - loss: 9.4554e-04 - val_loss: 2.4003e-04\n",
      "Epoch 95/100\n",
      "12/12 [==============================] - 3s 214ms/step - loss: 9.7992e-04 - val_loss: 2.4488e-04\n",
      "Epoch 96/100\n",
      "12/12 [==============================] - 3s 212ms/step - loss: 0.0011 - val_loss: 2.3504e-04\n",
      "Epoch 97/100\n",
      "12/12 [==============================] - 3s 223ms/step - loss: 0.0013 - val_loss: 2.8042e-04\n",
      "Epoch 98/100\n",
      "12/12 [==============================] - 3s 226ms/step - loss: 9.7220e-04 - val_loss: 2.6897e-04\n",
      "Epoch 99/100\n",
      "12/12 [==============================] - 3s 223ms/step - loss: 9.2124e-04 - val_loss: 2.3668e-04\n",
      "Epoch 100/100\n",
      "12/12 [==============================] - 3s 217ms/step - loss: 0.0016 - val_loss: 2.4591e-04\n"
     ]
    },
    {
     "data": {
      "text/plain": [
       "<keras.callbacks.History at 0x7f149cc10eb0>"
      ]
     },
     "execution_count": 39,
     "metadata": {},
     "output_type": "execute_result"
    }
   ],
   "source": [
    "model.fit(X_train,Y_train,validation_data=(X_test,Y_test),epochs=100,batch_size=64,verbose=1)"
   ]
  },
  {
   "cell_type": "code",
   "execution_count": 40,
   "metadata": {},
   "outputs": [],
   "source": [
    "import tensorflow as tf"
   ]
  },
  {
   "cell_type": "code",
   "execution_count": 41,
   "metadata": {},
   "outputs": [
    {
     "data": {
      "text/plain": [
       "'2.11.0'"
      ]
     },
     "execution_count": 41,
     "metadata": {},
     "output_type": "execute_result"
    }
   ],
   "source": [
    "tf.__version__"
   ]
  },
  {
   "cell_type": "code",
   "execution_count": 42,
   "metadata": {},
   "outputs": [
    {
     "name": "stdout",
     "output_type": "stream",
     "text": [
      "23/23 [==============================] - 2s 53ms/step\n",
      "11/11 [==============================] - 1s 44ms/step\n"
     ]
    }
   ],
   "source": [
    "# prediction and performance metrics\n",
    "train_predict = model.predict(X_train)\n",
    "test_predict = model.predict(X_test)"
   ]
  },
  {
   "cell_type": "code",
   "execution_count": 43,
   "metadata": {},
   "outputs": [],
   "source": [
    "# Transform to original form \n",
    "train_predict = scaler.inverse_transform(train_predict)\n",
    "test_predict = scaler.inverse_transform(test_predict)"
   ]
  },
  {
   "cell_type": "code",
   "execution_count": 44,
   "metadata": {},
   "outputs": [
    {
     "data": {
      "text/plain": [
       "232.17465985024094"
      ]
     },
     "execution_count": 44,
     "metadata": {},
     "output_type": "execute_result"
    }
   ],
   "source": [
    "### Calculate RMSE performance metrics\n",
    "import math\n",
    "from sklearn.metrics import mean_squared_error\n",
    "math.sqrt(mean_squared_error(Y_train,train_predict))"
   ]
  },
  {
   "cell_type": "code",
   "execution_count": 45,
   "metadata": {},
   "outputs": [
    {
     "data": {
      "text/plain": [
       "154.24756191236074"
      ]
     },
     "execution_count": 45,
     "metadata": {},
     "output_type": "execute_result"
    }
   ],
   "source": [
    "# Test data RMSE\n",
    "\n",
    "math.sqrt(mean_squared_error(Y_test,test_predict))"
   ]
  },
  {
   "cell_type": "code",
   "execution_count": 46,
   "metadata": {},
   "outputs": [
    {
     "data": {
      "image/png": "[encoded data removed]",
      "text/plain": [
       "<Figure size 640x480 with 1 Axes>"
      ]
     },
     "metadata": {},
     "output_type": "display_data"
    }
   ],
   "source": [
    "# plotting\n",
    "# shift train prediction for plotting/\n",
    "look_back = 100\n",
    "trainPredictPlot = np.empty_like(df1)\n",
    "trainPredictPlot[:,:] = np.nan\n",
    "trainPredictPlot[look_back:len(train_predict)+look_back, :] = train_predict\n",
    "\n",
    "# shift test predictions for plotting\n",
    "testPredictPlot = np.empty_like(df1)\n",
    "testPredictPlot[:,:] = np.nan\n",
    "testPredictPlot[len(train_predict)+(look_back*2)+1:len(df1)-1, :] = test_predict\n",
    "\n",
    "# plot baseline and prediction\n",
    "plt.plot(scaler.inverse_transform(df1))\n",
    "plt.plot(trainPredictPlot)\n",
    "plt.plot(testPredictPlot)\n",
    "plt.show()"
   ]
  },
  {
   "cell_type": "code",
   "execution_count": 48,
   "metadata": {},
   "outputs": [
    {
     "data": {
      "text/plain": [
       "441"
      ]
     },
     "execution_count": 48,
     "metadata": {},
     "output_type": "execute_result"
    }
   ],
   "source": [
    "len(test_data)"
   ]
  },
  {
   "cell_type": "code",
   "execution_count": 49,
   "metadata": {},
   "outputs": [
    {
     "data": {
      "text/plain": [
       "(100, 1)"
      ]
     },
     "execution_count": 49,
     "metadata": {},
     "output_type": "execute_result"
    }
   ],
   "source": [
    "x_input = test_data[341:].reshape(-1,1)\n",
    "x_input.shape"
   ]
  },
  {
   "cell_type": "code",
   "execution_count": 50,
   "metadata": {},
   "outputs": [],
   "source": [
    "temp_input = list(x_input)\n",
    "temp_input = temp_input[0].tolist()"
   ]
  },
  {
   "cell_type": "code",
   "execution_count": 51,
   "metadata": {},
   "outputs": [
    {
     "data": {
      "text/plain": [
       "[0.08410770194113959]"
      ]
     },
     "execution_count": 51,
     "metadata": {},
     "output_type": "execute_result"
    }
   ],
   "source": [
    "temp_input"
   ]
  },
  {
   "cell_type": "code",
   "execution_count": 53,
   "metadata": {},
   "outputs": [
    {
     "name": "stdout",
     "output_type": "stream",
     "text": [
      "[0.10282134]\n",
      "2\n",
      "[0.10282134]\n",
      "3\n",
      "[0.10282134]\n",
      "4\n",
      "[0.10282134]\n",
      "5\n",
      "[0.10282134]\n",
      "6\n",
      "[0.10282134]\n",
      "7\n",
      "[0.10282134]\n",
      "8\n",
      "[0.10282134]\n",
      "9\n",
      "[0.10282134]\n",
      "10\n",
      "[0.10282134]\n",
      "11\n",
      "[0.10282134]\n",
      "12\n",
      "[0.10282134]\n",
      "13\n",
      "[0.10282134]\n",
      "14\n",
      "[0.10282134]\n",
      "15\n",
      "[0.10282134]\n",
      "16\n",
      "[0.10282134]\n",
      "17\n",
      "[0.10282134]\n",
      "18\n",
      "[0.10282134]\n",
      "19\n",
      "[0.10282134]\n",
      "20\n",
      "[0.10282134]\n",
      "21\n",
      "[0.10282134]\n",
      "22\n",
      "[0.10282134]\n",
      "23\n",
      "[0.10282134]\n",
      "24\n",
      "[0.10282134]\n",
      "25\n",
      "[0.10282134]\n",
      "26\n",
      "[0.10282134]\n",
      "27\n",
      "[0.10282134]\n",
      "28\n",
      "[0.10282134]\n",
      "29\n",
      "[0.10282134]\n",
      "30\n",
      "[0.10282134]\n",
      "31\n",
      "[[0.10282133519649506], [0.10282133519649506], [0.10282133519649506], [0.10282133519649506], [0.10282133519649506], [0.10282133519649506], [0.10282133519649506], [0.10282133519649506], [0.10282133519649506], [0.10282133519649506], [0.10282133519649506], [0.10282133519649506], [0.10282133519649506], [0.10282133519649506], [0.10282133519649506], [0.10282133519649506], [0.10282133519649506], [0.10282133519649506], [0.10282133519649506], [0.10282133519649506], [0.10282133519649506], [0.10282133519649506], [0.10282133519649506], [0.10282133519649506], [0.10282133519649506], [0.10282133519649506], [0.10282133519649506], [0.10282133519649506], [0.10282133519649506], [0.10282133519649506]]\n"
     ]
    }
   ],
   "source": [
    "from numpy import array\n",
    "\n",
    "lst_output = []\n",
    "n_steps = 100\n",
    "i = 0\n",
    "while(i<30):\n",
    "    if(len(temp_input)>100):\n",
    "        # print(temp_input)\n",
    "        x_input=np.array(temp_input[1:]) \n",
    "        print(f\"{i} day input {x_input}. \")\n",
    "        x_input = x_input.reshape(1,-1)\n",
    "        x_input = x_input.reshape(1, n_steps, 1)\n",
    "        # print(x_input)\n",
    "        yhat = model.predict(x_input, verbose=0)\n",
    "        print(f\"{i} day output {yhat} \")\n",
    "        temp_input.extend(yhat[0].tolist())\n",
    "        temp_input=temp_input[1:]\n",
    "        # print(temp_input)\n",
    "        lst_output.extend(yhat.tolist())\n",
    "        i=i+1\n",
    "\n",
    "    else:\n",
    "        x_input = x_input.reshape(1,n_steps,1)\n",
    "        yhat = model.predict(x_input,verbose=0)\n",
    "        print(yhat[0])\n",
    "        temp_input.extend(yhat[0].tolist())\n",
    "        print(len(temp_input))\n",
    "        lst_output.extend(yhat.tolist())\n",
    "        i=i+1\n",
    "print(lst_output)"
   ]
  },
  {
   "cell_type": "code",
   "execution_count": 60,
   "metadata": {},
   "outputs": [
    {
     "name": "stdout",
     "output_type": "stream",
     "text": [
      "[0.10282134]\n",
      "32\n",
      "[0.10282134]\n",
      "33\n",
      "[0.10282134]\n",
      "34\n",
      "[0.10282134]\n",
      "35\n",
      "[0.10282134]\n",
      "36\n",
      "[0.10282134]\n",
      "37\n",
      "[0.10282134]\n",
      "38\n",
      "[0.10282134]\n",
      "39\n",
      "[0.10282134]\n",
      "40\n",
      "[0.10282134]\n",
      "41\n",
      "[0.10282134]\n",
      "42\n",
      "[0.10282134]\n",
      "43\n",
      "[0.10282134]\n",
      "44\n",
      "[0.10282134]\n",
      "45\n",
      "[0.10282134]\n",
      "46\n",
      "[0.10282134]\n",
      "47\n",
      "[0.10282134]\n",
      "48\n",
      "[0.10282134]\n",
      "49\n",
      "[0.10282134]\n",
      "50\n",
      "[0.10282134]\n",
      "51\n",
      "[0.10282134]\n",
      "52\n",
      "[0.10282134]\n",
      "53\n",
      "[0.10282134]\n",
      "54\n",
      "[0.10282134]\n",
      "55\n",
      "[0.10282134]\n",
      "56\n",
      "[0.10282134]\n",
      "57\n",
      "[0.10282134]\n",
      "58\n",
      "[0.10282134]\n",
      "59\n",
      "[0.10282134]\n",
      "60\n",
      "[0.10282134]\n",
      "61\n",
      "[[0.10282133519649506], [0.10282133519649506], [0.10282133519649506], [0.10282133519649506], [0.10282133519649506], [0.10282133519649506], [0.10282133519649506], [0.10282133519649506], [0.10282133519649506], [0.10282133519649506], [0.10282133519649506], [0.10282133519649506], [0.10282133519649506], [0.10282133519649506], [0.10282133519649506], [0.10282133519649506], [0.10282133519649506], [0.10282133519649506], [0.10282133519649506], [0.10282133519649506], [0.10282133519649506], [0.10282133519649506], [0.10282133519649506], [0.10282133519649506], [0.10282133519649506], [0.10282133519649506], [0.10282133519649506], [0.10282133519649506], [0.10282133519649506], [0.10282133519649506]]\n"
     ]
    }
   ],
   "source": [
    "# demonstrate prediction for next 10 days\n",
    "from numpy import array\n",
    "\n",
    "lst_output=[]\n",
    "n_steps=100\n",
    "i=0\n",
    "while(i<30):\n",
    "    \n",
    "    if(len(temp_input)>100):\n",
    "        #print(temp_input)\n",
    "        x_input=np.array(temp_input[1:])\n",
    "        print(\"{} day input {}\".format(i,x_input))\n",
    "        x_input=x_input.reshape(1,-1)\n",
    "        x_input = x_input.reshape((1, n_steps, 1))\n",
    "        #print(x_input)\n",
    "        yhat = model.predict(x_input, verbose=0)\n",
    "        print(\"{} day output {}\".format(i,yhat))\n",
    "        temp_input.extend(yhat[0].tolist())\n",
    "        temp_input=temp_input[1:]\n",
    "        #print(temp_input)\n",
    "        lst_output.extend(yhat.tolist())\n",
    "        i=i+1\n",
    "    else:\n",
    "        x_input = x_input.reshape((1, n_steps,1))\n",
    "        yhat = model.predict(x_input, verbose=0)\n",
    "        print(yhat[0])\n",
    "        temp_input.extend(yhat[0].tolist())\n",
    "        print(len(temp_input))\n",
    "        lst_output.extend(yhat.tolist())\n",
    "        i=i+1\n",
    "    \n",
    "\n",
    "print(lst_output)"
   ]
  },
  {
   "cell_type": "code",
   "execution_count": 61,
   "metadata": {},
   "outputs": [],
   "source": [
    "day_new = np.arange(1,101)\n",
    "day_pred=np.arange(101,131)"
   ]
  },
  {
   "cell_type": "code",
   "execution_count": 62,
   "metadata": {},
   "outputs": [],
   "source": [
    "import matplotlib.pyplot as plt"
   ]
  },
  {
   "cell_type": "code",
   "execution_count": 63,
   "metadata": {},
   "outputs": [
    {
     "data": {
      "text/plain": [
       "1258"
      ]
     },
     "execution_count": 63,
     "metadata": {},
     "output_type": "execute_result"
    }
   ],
   "source": [
    "len(df1)"
   ]
  },
  {
   "cell_type": "code",
   "execution_count": 64,
   "metadata": {},
   "outputs": [],
   "source": [
    "df3=df1.tolist()"
   ]
  },
  {
   "cell_type": "code",
   "execution_count": 65,
   "metadata": {},
   "outputs": [],
   "source": [
    "df3.extend(lst_output)"
   ]
  },
  {
   "cell_type": "code",
   "execution_count": 66,
   "metadata": {},
   "outputs": [
    {
     "data": {
      "text/plain": [
       "([<matplotlib.lines.Line2D at 0x7f11545f91c0>],\n",
       " array([[147.89141808],\n",
       "        [147.89141808],\n",
       "        [147.89141808],\n",
       "        [147.89141808],\n",
       "        [147.89141808],\n",
       "        [147.89141808],\n",
       "        [147.89141808],\n",
       "        [147.89141808],\n",
       "        [147.89141808],\n",
       "        [147.89141808],\n",
       "        [147.89141808],\n",
       "        [147.89141808],\n",
       "        [147.89141808],\n",
       "        [147.89141808],\n",
       "        [147.89141808],\n",
       "        [147.89141808],\n",
       "        [147.89141808],\n",
       "        [147.89141808],\n",
       "        [147.89141808],\n",
       "        [147.89141808],\n",
       "        [147.89141808],\n",
       "        [147.89141808],\n",
       "        [147.89141808],\n",
       "        [147.89141808],\n",
       "        [147.89141808],\n",
       "        [147.89141808],\n",
       "        [147.89141808],\n",
       "        [147.89141808],\n",
       "        [147.89141808],\n",
       "        [147.89141808]]))"
      ]
     },
     "execution_count": 66,
     "metadata": {},
     "output_type": "execute_result"
    },
    {
     "data": {
      "image/png": "[encoded data removed]",
      "text/plain": [
       "<Figure size 640x480 with 1 Axes>"
      ]
     },
     "metadata": {},
     "output_type": "display_data"
    }
   ],
   "source": [
    "plt.plot(day_new,scaler.inverse_transform(df1[1158:]))\n",
    "plt.plot(day_pred),scaler.inverse_transform(lst_output)"
   ]
  },
  {
   "cell_type": "code",
   "execution_count": null,
   "metadata": {},
   "outputs": [],
   "source": []
  }
 ],
 "metadata": {
  "kernelspec": {
   "display_name": "Python 3.9.15 ('base')",
   "language": "python",
   "name": "python3"
  },
  "language_info": {
   "codemirror_mode": {
    "name": "ipython",
    "version": 3
   },
   "file_extension": ".py",
   "mimetype": "text/x-python",
   "name": "python",
   "nbconvert_exporter": "python",
   "pygments_lexer": "ipython3",
   "version": "3.9.15"
  },
  "orig_nbformat": 4,
  "vscode": {
   "interpreter": {
    "hash": "ba7d6a92d9c7295bfdcfceb88786d0d9300abf0a1802f116b1f16ab64cdf39a0"
   }
  }
 },
 "nbformat": 4,
 "nbformat_minor": 2
}
