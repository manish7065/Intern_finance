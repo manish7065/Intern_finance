{
 "cells": [
  {
   "cell_type": "code",
   "execution_count": 1,
   "metadata": {},
   "outputs": [],
   "source": [
    "import pandas as pd"
   ]
  },
  {
   "cell_type": "code",
   "execution_count": 2,
   "metadata": {},
   "outputs": [],
   "source": [
    "# Data Collection\n",
    "# !pip install pandas-datareader\n",
    "import pandas_datareader as pdr"
   ]
  },
  {
   "cell_type": "code",
   "execution_count": 3,
   "metadata": {},
   "outputs": [],
   "source": [
    "import os\n",
    "# print(os.getenv(\"TINGO_KEY\"))"
   ]
  },
  {
   "cell_type": "code",
   "execution_count": 4,
   "metadata": {},
   "outputs": [],
   "source": [
    "# df =pdr.get_data_tiingo('AAPL', api_key=os.getenv(\"TINGO_KEY\"))"
   ]
  },
  {
   "cell_type": "code",
   "execution_count": null,
   "metadata": {},
   "outputs": [],
   "source": []
  },
  {
   "cell_type": "code",
   "execution_count": 34,
   "metadata": {},
   "outputs": [],
   "source": [
    "# save the data in csv\n",
    "\n",
    "# df.to_csv(\"AAPL.csv\")"
   ]
  },
  {
   "cell_type": "code",
   "execution_count": 5,
   "metadata": {},
   "outputs": [],
   "source": [
    "import pandas as pd"
   ]
  },
  {
   "cell_type": "code",
   "execution_count": 6,
   "metadata": {},
   "outputs": [],
   "source": [
    "# Read the data from csv\n",
    "df = pd.read_csv('AAPL.csv')"
   ]
  },
  {
   "cell_type": "code",
   "execution_count": 7,
   "metadata": {},
   "outputs": [
    {
     "data": {
      "text/html": [
       "<div>\n",
       "<style scoped>\n",
       "    .dataframe tbody tr th:only-of-type {\n",
       "        vertical-align: middle;\n",
       "    }\n",
       "\n",
       "    .dataframe tbody tr th {\n",
       "        vertical-align: top;\n",
       "    }\n",
       "\n",
       "    .dataframe thead th {\n",
       "        text-align: right;\n",
       "    }\n",
       "</style>\n",
       "<table border=\"1\" class=\"dataframe\">\n",
       "  <thead>\n",
       "    <tr style=\"text-align: right;\">\n",
       "      <th></th>\n",
       "      <th>symbol</th>\n",
       "      <th>date</th>\n",
       "      <th>close</th>\n",
       "      <th>high</th>\n",
       "      <th>low</th>\n",
       "      <th>open</th>\n",
       "      <th>volume</th>\n",
       "      <th>adjClose</th>\n",
       "      <th>adjHigh</th>\n",
       "      <th>adjLow</th>\n",
       "      <th>adjOpen</th>\n",
       "      <th>adjVolume</th>\n",
       "      <th>divCash</th>\n",
       "      <th>splitFactor</th>\n",
       "    </tr>\n",
       "  </thead>\n",
       "  <tbody>\n",
       "    <tr>\n",
       "      <th>0</th>\n",
       "      <td>AAPL</td>\n",
       "      <td>2018-03-06 00:00:00+00:00</td>\n",
       "      <td>176.67</td>\n",
       "      <td>178.2500</td>\n",
       "      <td>176.13</td>\n",
       "      <td>177.910</td>\n",
       "      <td>23788506</td>\n",
       "      <td>42.048801</td>\n",
       "      <td>42.424853</td>\n",
       "      <td>41.920277</td>\n",
       "      <td>42.343931</td>\n",
       "      <td>95154024</td>\n",
       "      <td>0.0</td>\n",
       "      <td>1.0</td>\n",
       "    </tr>\n",
       "    <tr>\n",
       "      <th>1</th>\n",
       "      <td>AAPL</td>\n",
       "      <td>2018-03-07 00:00:00+00:00</td>\n",
       "      <td>175.03</td>\n",
       "      <td>175.8500</td>\n",
       "      <td>174.27</td>\n",
       "      <td>174.940</td>\n",
       "      <td>31703462</td>\n",
       "      <td>41.658469</td>\n",
       "      <td>41.853635</td>\n",
       "      <td>41.477583</td>\n",
       "      <td>41.637048</td>\n",
       "      <td>126813848</td>\n",
       "      <td>0.0</td>\n",
       "      <td>1.0</td>\n",
       "    </tr>\n",
       "    <tr>\n",
       "      <th>2</th>\n",
       "      <td>AAPL</td>\n",
       "      <td>2018-03-08 00:00:00+00:00</td>\n",
       "      <td>176.94</td>\n",
       "      <td>177.1200</td>\n",
       "      <td>175.07</td>\n",
       "      <td>175.480</td>\n",
       "      <td>23163767</td>\n",
       "      <td>42.113063</td>\n",
       "      <td>42.155905</td>\n",
       "      <td>41.667989</td>\n",
       "      <td>41.765572</td>\n",
       "      <td>92655068</td>\n",
       "      <td>0.0</td>\n",
       "      <td>1.0</td>\n",
       "    </tr>\n",
       "    <tr>\n",
       "      <th>3</th>\n",
       "      <td>AAPL</td>\n",
       "      <td>2018-03-09 00:00:00+00:00</td>\n",
       "      <td>179.98</td>\n",
       "      <td>180.0000</td>\n",
       "      <td>177.39</td>\n",
       "      <td>177.960</td>\n",
       "      <td>31385134</td>\n",
       "      <td>42.836607</td>\n",
       "      <td>42.841367</td>\n",
       "      <td>42.220167</td>\n",
       "      <td>42.355831</td>\n",
       "      <td>125540536</td>\n",
       "      <td>0.0</td>\n",
       "      <td>1.0</td>\n",
       "    </tr>\n",
       "    <tr>\n",
       "      <th>4</th>\n",
       "      <td>AAPL</td>\n",
       "      <td>2018-03-12 00:00:00+00:00</td>\n",
       "      <td>181.72</td>\n",
       "      <td>182.3900</td>\n",
       "      <td>180.21</td>\n",
       "      <td>180.290</td>\n",
       "      <td>32055405</td>\n",
       "      <td>43.250740</td>\n",
       "      <td>43.410205</td>\n",
       "      <td>42.891348</td>\n",
       "      <td>42.910389</td>\n",
       "      <td>128221620</td>\n",
       "      <td>0.0</td>\n",
       "      <td>1.0</td>\n",
       "    </tr>\n",
       "    <tr>\n",
       "      <th>...</th>\n",
       "      <td>...</td>\n",
       "      <td>...</td>\n",
       "      <td>...</td>\n",
       "      <td>...</td>\n",
       "      <td>...</td>\n",
       "      <td>...</td>\n",
       "      <td>...</td>\n",
       "      <td>...</td>\n",
       "      <td>...</td>\n",
       "      <td>...</td>\n",
       "      <td>...</td>\n",
       "      <td>...</td>\n",
       "      <td>...</td>\n",
       "      <td>...</td>\n",
       "    </tr>\n",
       "    <tr>\n",
       "      <th>1253</th>\n",
       "      <td>AAPL</td>\n",
       "      <td>2023-02-27 00:00:00+00:00</td>\n",
       "      <td>147.92</td>\n",
       "      <td>149.1700</td>\n",
       "      <td>147.45</td>\n",
       "      <td>147.710</td>\n",
       "      <td>44998470</td>\n",
       "      <td>147.920000</td>\n",
       "      <td>149.170000</td>\n",
       "      <td>147.450000</td>\n",
       "      <td>147.710000</td>\n",
       "      <td>44998470</td>\n",
       "      <td>0.0</td>\n",
       "      <td>1.0</td>\n",
       "    </tr>\n",
       "    <tr>\n",
       "      <th>1254</th>\n",
       "      <td>AAPL</td>\n",
       "      <td>2023-02-28 00:00:00+00:00</td>\n",
       "      <td>147.41</td>\n",
       "      <td>149.0800</td>\n",
       "      <td>146.83</td>\n",
       "      <td>147.050</td>\n",
       "      <td>50546998</td>\n",
       "      <td>147.410000</td>\n",
       "      <td>149.080000</td>\n",
       "      <td>146.830000</td>\n",
       "      <td>147.050000</td>\n",
       "      <td>50546998</td>\n",
       "      <td>0.0</td>\n",
       "      <td>1.0</td>\n",
       "    </tr>\n",
       "    <tr>\n",
       "      <th>1255</th>\n",
       "      <td>AAPL</td>\n",
       "      <td>2023-03-01 00:00:00+00:00</td>\n",
       "      <td>145.31</td>\n",
       "      <td>147.2285</td>\n",
       "      <td>145.01</td>\n",
       "      <td>146.830</td>\n",
       "      <td>55478991</td>\n",
       "      <td>145.310000</td>\n",
       "      <td>147.228500</td>\n",
       "      <td>145.010000</td>\n",
       "      <td>146.830000</td>\n",
       "      <td>55478991</td>\n",
       "      <td>0.0</td>\n",
       "      <td>1.0</td>\n",
       "    </tr>\n",
       "    <tr>\n",
       "      <th>1256</th>\n",
       "      <td>AAPL</td>\n",
       "      <td>2023-03-02 00:00:00+00:00</td>\n",
       "      <td>145.91</td>\n",
       "      <td>146.7100</td>\n",
       "      <td>143.90</td>\n",
       "      <td>144.380</td>\n",
       "      <td>52279761</td>\n",
       "      <td>145.910000</td>\n",
       "      <td>146.710000</td>\n",
       "      <td>143.900000</td>\n",
       "      <td>144.380000</td>\n",
       "      <td>52279761</td>\n",
       "      <td>0.0</td>\n",
       "      <td>1.0</td>\n",
       "    </tr>\n",
       "    <tr>\n",
       "      <th>1257</th>\n",
       "      <td>AAPL</td>\n",
       "      <td>2023-03-03 00:00:00+00:00</td>\n",
       "      <td>151.03</td>\n",
       "      <td>151.1100</td>\n",
       "      <td>147.33</td>\n",
       "      <td>148.045</td>\n",
       "      <td>70732297</td>\n",
       "      <td>151.030000</td>\n",
       "      <td>151.110000</td>\n",
       "      <td>147.330000</td>\n",
       "      <td>148.045000</td>\n",
       "      <td>70732297</td>\n",
       "      <td>0.0</td>\n",
       "      <td>1.0</td>\n",
       "    </tr>\n",
       "  </tbody>\n",
       "</table>\n",
       "<p>1258 rows × 14 columns</p>\n",
       "</div>"
      ],
      "text/plain": [
       "     symbol                       date   close      high     low     open  \\\n",
       "0      AAPL  2018-03-06 00:00:00+00:00  176.67  178.2500  176.13  177.910   \n",
       "1      AAPL  2018-03-07 00:00:00+00:00  175.03  175.8500  174.27  174.940   \n",
       "2      AAPL  2018-03-08 00:00:00+00:00  176.94  177.1200  175.07  175.480   \n",
       "3      AAPL  2018-03-09 00:00:00+00:00  179.98  180.0000  177.39  177.960   \n",
       "4      AAPL  2018-03-12 00:00:00+00:00  181.72  182.3900  180.21  180.290   \n",
       "...     ...                        ...     ...       ...     ...      ...   \n",
       "1253   AAPL  2023-02-27 00:00:00+00:00  147.92  149.1700  147.45  147.710   \n",
       "1254   AAPL  2023-02-28 00:00:00+00:00  147.41  149.0800  146.83  147.050   \n",
       "1255   AAPL  2023-03-01 00:00:00+00:00  145.31  147.2285  145.01  146.830   \n",
       "1256   AAPL  2023-03-02 00:00:00+00:00  145.91  146.7100  143.90  144.380   \n",
       "1257   AAPL  2023-03-03 00:00:00+00:00  151.03  151.1100  147.33  148.045   \n",
       "\n",
       "        volume    adjClose     adjHigh      adjLow     adjOpen  adjVolume  \\\n",
       "0     23788506   42.048801   42.424853   41.920277   42.343931   95154024   \n",
       "1     31703462   41.658469   41.853635   41.477583   41.637048  126813848   \n",
       "2     23163767   42.113063   42.155905   41.667989   41.765572   92655068   \n",
       "3     31385134   42.836607   42.841367   42.220167   42.355831  125540536   \n",
       "4     32055405   43.250740   43.410205   42.891348   42.910389  128221620   \n",
       "...        ...         ...         ...         ...         ...        ...   \n",
       "1253  44998470  147.920000  149.170000  147.450000  147.710000   44998470   \n",
       "1254  50546998  147.410000  149.080000  146.830000  147.050000   50546998   \n",
       "1255  55478991  145.310000  147.228500  145.010000  146.830000   55478991   \n",
       "1256  52279761  145.910000  146.710000  143.900000  144.380000   52279761   \n",
       "1257  70732297  151.030000  151.110000  147.330000  148.045000   70732297   \n",
       "\n",
       "      divCash  splitFactor  \n",
       "0         0.0          1.0  \n",
       "1         0.0          1.0  \n",
       "2         0.0          1.0  \n",
       "3         0.0          1.0  \n",
       "4         0.0          1.0  \n",
       "...       ...          ...  \n",
       "1253      0.0          1.0  \n",
       "1254      0.0          1.0  \n",
       "1255      0.0          1.0  \n",
       "1256      0.0          1.0  \n",
       "1257      0.0          1.0  \n",
       "\n",
       "[1258 rows x 14 columns]"
      ]
     },
     "execution_count": 7,
     "metadata": {},
     "output_type": "execute_result"
    }
   ],
   "source": [
    "df"
   ]
  },
  {
   "cell_type": "code",
   "execution_count": 38,
   "metadata": {},
   "outputs": [],
   "source": [
    "df1 = df.reset_index()['close']"
   ]
  },
  {
   "cell_type": "code",
   "execution_count": 39,
   "metadata": {},
   "outputs": [
    {
     "data": {
      "text/plain": [
       "0       176.67\n",
       "1       175.03\n",
       "2       176.94\n",
       "3       179.98\n",
       "4       181.72\n",
       "         ...  \n",
       "1253    147.92\n",
       "1254    147.41\n",
       "1255    145.31\n",
       "1256    145.91\n",
       "1257    151.03\n",
       "Name: close, Length: 1258, dtype: float64"
      ]
     },
     "execution_count": 39,
     "metadata": {},
     "output_type": "execute_result"
    }
   ],
   "source": [
    "df1"
   ]
  },
  {
   "cell_type": "code",
   "execution_count": 40,
   "metadata": {},
   "outputs": [
    {
     "data": {
      "text/plain": [
       "[<matplotlib.lines.Line2D at 0x7f846f158d90>]"
      ]
     },
     "execution_count": 40,
     "metadata": {},
     "output_type": "execute_result"
    },
    {
     "data": {
      "image/png": "[encoded data removed]",
      "text/plain": [
       "<Figure size 640x480 with 1 Axes>"
      ]
     },
     "metadata": {},
     "output_type": "display_data"
    }
   ],
   "source": [
    "# !pip install matplotlib\n",
    "import matplotlib.pyplot as plt\n",
    "plt.plot(df1)"
   ]
  },
  {
   "cell_type": "code",
   "execution_count": 41,
   "metadata": {},
   "outputs": [],
   "source": [
    "# !pip install numpy\n",
    "import numpy as np"
   ]
  },
  {
   "cell_type": "code",
   "execution_count": 42,
   "metadata": {},
   "outputs": [],
   "source": [
    "# Scaling data in \n",
    "# !pip install scikit-learn\n",
    "from sklearn.preprocessing import MinMaxScaler\n",
    "scaler = MinMaxScaler(feature_range = (0,1))\n",
    "df1 = scaler.fit_transform(np.array(df1).reshape(-1,1))"
   ]
  },
  {
   "cell_type": "code",
   "execution_count": 43,
   "metadata": {},
   "outputs": [
    {
     "data": {
      "text/plain": [
       "array([[0.17490294],\n",
       "       [0.17079524],\n",
       "       [0.17557921],\n",
       "       ...,\n",
       "       [0.09635567],\n",
       "       [0.09785848],\n",
       "       [0.11068253]])"
      ]
     },
     "execution_count": 43,
     "metadata": {},
     "output_type": "execute_result"
    }
   ],
   "source": [
    "df1"
   ]
  },
  {
   "cell_type": "code",
   "execution_count": 44,
   "metadata": {},
   "outputs": [],
   "source": [
    "# splitting dataset into train and test  \n",
    "training_size = int(len(df1)*0.65)\n",
    "test_size = len(df1) - training_size\n"
   ]
  },
  {
   "cell_type": "code",
   "execution_count": 45,
   "metadata": {},
   "outputs": [
    {
     "data": {
      "text/plain": [
       "(817, 441)"
      ]
     },
     "execution_count": 45,
     "metadata": {},
     "output_type": "execute_result"
    }
   ],
   "source": [
    "training_size,test_size"
   ]
  },
  {
   "cell_type": "code",
   "execution_count": 46,
   "metadata": {},
   "outputs": [],
   "source": [
    "train_data,test_data = df1[0:training_size], df1[training_size:len(df1),:1]"
   ]
  },
  {
   "cell_type": "code",
   "execution_count": 47,
   "metadata": {},
   "outputs": [
    {
     "data": {
      "text/plain": [
       "(817, 441)"
      ]
     },
     "execution_count": 47,
     "metadata": {},
     "output_type": "execute_result"
    }
   ],
   "source": [
    "len(train_data), len(test_data)"
   ]
  },
  {
   "cell_type": "code",
   "execution_count": 54,
   "metadata": {},
   "outputs": [],
   "source": [
    "import numpy as np\n",
    "\n",
    "# convert an array of values into a dataset matrix\n",
    "def create_dataset(dataset,time_step=1):\n",
    "    dataX, dataY = [],[]\n",
    "    for i in range(len(dataset)-time_step-1):\n",
    "        a = dataset[i:(i+time_step),0]\n",
    "        dataX.append(a)\n",
    "        dataY.append(dataset[i + time_step,0])\n",
    "    return np.array(dataX),np.array(dataY)"
   ]
  },
  {
   "cell_type": "code",
   "execution_count": 55,
   "metadata": {},
   "outputs": [],
   "source": [
    "# reshape into x=t, t+1, t+2, t+3 and y=t+4\n",
    "time_step = 100\n",
    "X_train, Y_train = create_dataset(train_data,time_step)\n",
    "X_test, Y_test = create_dataset(test_data, time_step)"
   ]
  },
  {
   "cell_type": "code",
   "execution_count": 58,
   "metadata": {},
   "outputs": [
    {
     "data": {
      "text/plain": [
       "((716, 100), (340, 100), (716,), (340,))"
      ]
     },
     "execution_count": 58,
     "metadata": {},
     "output_type": "execute_result"
    }
   ],
   "source": [
    "X_train.shape, X_test.shape,Y_train.shape,Y_test.shape"
   ]
  },
  {
   "cell_type": "code",
   "execution_count": 59,
   "metadata": {},
   "outputs": [],
   "source": [
    "# reshape input to be [samples,time steps, features] which is required for LSTM\n",
    "X_train = X_train.reshape(X_train.shape[0],X_train.shape[1], 1)\n",
    "X_test = X_test.reshape(X_test.shape[0],X_test.shape[1], 1)"
   ]
  },
  {
   "cell_type": "code",
   "execution_count": 63,
   "metadata": {},
   "outputs": [
    {
     "name": "stdout",
     "output_type": "stream",
     "text": [
      "Defaulting to user installation because normal site-packages is not writeable\n",
      "Requirement already satisfied: tensorflow in /config/.local/lib/python3.9/site-packages (2.11.0)\n",
      "Requirement already satisfied: tensorflow-io-gcs-filesystem>=0.23.1 in /config/.local/lib/python3.9/site-packages (from tensorflow) (0.31.0)\n",
      "Requirement already satisfied: wrapt>=1.11.0 in /config/.local/lib/python3.9/site-packages (from tensorflow) (1.15.0)\n",
      "Requirement already satisfied: protobuf<3.20,>=3.9.2 in /config/.local/lib/python3.9/site-packages (from tensorflow) (3.19.6)\n",
      "Requirement already satisfied: packaging in /config/.local/lib/python3.9/site-packages (from tensorflow) (23.0)\n",
      "Requirement already satisfied: astunparse>=1.6.0 in /config/.local/lib/python3.9/site-packages (from tensorflow) (1.6.3)\n",
      "Requirement already satisfied: absl-py>=1.0.0 in /config/.local/lib/python3.9/site-packages (from tensorflow) (1.4.0)\n",
      "Requirement already satisfied: google-pasta>=0.1.1 in /config/.local/lib/python3.9/site-packages (from tensorflow) (0.2.0)\n",
      "Requirement already satisfied: grpcio<2.0,>=1.24.3 in /config/.local/lib/python3.9/site-packages (from tensorflow) (1.51.3)\n",
      "Requirement already satisfied: setuptools in /usr/local/conda/lib/python3.9/site-packages (from tensorflow) (65.5.0)\n",
      "Requirement already satisfied: typing-extensions>=3.6.6 in /config/.local/lib/python3.9/site-packages (from tensorflow) (4.5.0)\n",
      "Requirement already satisfied: tensorflow-estimator<2.12,>=2.11.0 in /config/.local/lib/python3.9/site-packages (from tensorflow) (2.11.0)\n",
      "Requirement already satisfied: six>=1.12.0 in /config/.local/lib/python3.9/site-packages (from tensorflow) (1.16.0)\n",
      "Requirement already satisfied: h5py>=2.9.0 in /config/.local/lib/python3.9/site-packages (from tensorflow) (3.8.0)\n",
      "Requirement already satisfied: flatbuffers>=2.0 in /config/.local/lib/python3.9/site-packages (from tensorflow) (23.3.3)\n",
      "Requirement already satisfied: keras<2.12,>=2.11.0 in /config/.local/lib/python3.9/site-packages (from tensorflow) (2.11.0)\n",
      "Requirement already satisfied: termcolor>=1.1.0 in /config/.local/lib/python3.9/site-packages (from tensorflow) (2.2.0)\n",
      "Requirement already satisfied: opt-einsum>=2.3.2 in /config/.local/lib/python3.9/site-packages (from tensorflow) (3.3.0)\n",
      "Requirement already satisfied: tensorboard<2.12,>=2.11 in /config/.local/lib/python3.9/site-packages (from tensorflow) (2.11.2)\n",
      "Requirement already satisfied: libclang>=13.0.0 in /config/.local/lib/python3.9/site-packages (from tensorflow) (15.0.6.1)\n",
      "Requirement already satisfied: numpy>=1.20 in /config/.local/lib/python3.9/site-packages (from tensorflow) (1.24.2)\n",
      "Requirement already satisfied: gast<=0.4.0,>=0.2.1 in /config/.local/lib/python3.9/site-packages (from tensorflow) (0.4.0)\n",
      "Requirement already satisfied: wheel<1.0,>=0.23.0 in /usr/local/conda/lib/python3.9/site-packages (from astunparse>=1.6.0->tensorflow) (0.37.1)\n",
      "Requirement already satisfied: requests<3,>=2.21.0 in /usr/local/conda/lib/python3.9/site-packages (from tensorboard<2.12,>=2.11->tensorflow) (2.28.1)\n",
      "Requirement already satisfied: werkzeug>=1.0.1 in /config/.local/lib/python3.9/site-packages (from tensorboard<2.12,>=2.11->tensorflow) (2.2.3)\n",
      "Requirement already satisfied: markdown>=2.6.8 in /config/.local/lib/python3.9/site-packages (from tensorboard<2.12,>=2.11->tensorflow) (3.4.1)\n",
      "Requirement already satisfied: tensorboard-data-server<0.7.0,>=0.6.0 in /config/.local/lib/python3.9/site-packages (from tensorboard<2.12,>=2.11->tensorflow) (0.6.1)\n",
      "Requirement already satisfied: tensorboard-plugin-wit>=1.6.0 in /config/.local/lib/python3.9/site-packages (from tensorboard<2.12,>=2.11->tensorflow) (1.8.1)\n",
      "Requirement already satisfied: google-auth-oauthlib<0.5,>=0.4.1 in /config/.local/lib/python3.9/site-packages (from tensorboard<2.12,>=2.11->tensorflow) (0.4.6)\n",
      "Requirement already satisfied: google-auth<3,>=1.6.3 in /config/.local/lib/python3.9/site-packages (from tensorboard<2.12,>=2.11->tensorflow) (2.16.2)\n",
      "Requirement already satisfied: rsa<5,>=3.1.4 in /config/.local/lib/python3.9/site-packages (from google-auth<3,>=1.6.3->tensorboard<2.12,>=2.11->tensorflow) (4.9)\n",
      "Requirement already satisfied: cachetools<6.0,>=2.0.0 in /config/.local/lib/python3.9/site-packages (from google-auth<3,>=1.6.3->tensorboard<2.12,>=2.11->tensorflow) (5.3.0)\n",
      "Requirement already satisfied: pyasn1-modules>=0.2.1 in /config/.local/lib/python3.9/site-packages (from google-auth<3,>=1.6.3->tensorboard<2.12,>=2.11->tensorflow) (0.2.8)\n",
      "Requirement already satisfied: requests-oauthlib>=0.7.0 in /config/.local/lib/python3.9/site-packages (from google-auth-oauthlib<0.5,>=0.4.1->tensorboard<2.12,>=2.11->tensorflow) (1.3.1)\n",
      "Requirement already satisfied: importlib-metadata>=4.4 in /config/.local/lib/python3.9/site-packages (from markdown>=2.6.8->tensorboard<2.12,>=2.11->tensorflow) (6.0.0)\n",
      "Requirement already satisfied: charset-normalizer<3,>=2 in /usr/local/conda/lib/python3.9/site-packages (from requests<3,>=2.21.0->tensorboard<2.12,>=2.11->tensorflow) (2.0.4)\n",
      "Requirement already satisfied: urllib3<1.27,>=1.21.1 in /usr/local/conda/lib/python3.9/site-packages (from requests<3,>=2.21.0->tensorboard<2.12,>=2.11->tensorflow) (1.26.13)\n",
      "Requirement already satisfied: idna<4,>=2.5 in /usr/local/conda/lib/python3.9/site-packages (from requests<3,>=2.21.0->tensorboard<2.12,>=2.11->tensorflow) (3.4)\n",
      "Requirement already satisfied: certifi>=2017.4.17 in /usr/local/conda/lib/python3.9/site-packages (from requests<3,>=2.21.0->tensorboard<2.12,>=2.11->tensorflow) (2022.9.24)\n",
      "Requirement already satisfied: MarkupSafe>=2.1.1 in /config/.local/lib/python3.9/site-packages (from werkzeug>=1.0.1->tensorboard<2.12,>=2.11->tensorflow) (2.1.2)\n",
      "Requirement already satisfied: zipp>=0.5 in /config/.local/lib/python3.9/site-packages (from importlib-metadata>=4.4->markdown>=2.6.8->tensorboard<2.12,>=2.11->tensorflow) (3.15.0)\n",
      "Requirement already satisfied: pyasn1<0.5.0,>=0.4.6 in /config/.local/lib/python3.9/site-packages (from pyasn1-modules>=0.2.1->google-auth<3,>=1.6.3->tensorboard<2.12,>=2.11->tensorflow) (0.4.8)\n",
      "Requirement already satisfied: oauthlib>=3.0.0 in /config/.local/lib/python3.9/site-packages (from requests-oauthlib>=0.7.0->google-auth-oauthlib<0.5,>=0.4.1->tensorboard<2.12,>=2.11->tensorflow) (3.2.2)\n",
      "Defaulting to user installation because normal site-packages is not writeable\n",
      "Requirement already satisfied: keras in /config/.local/lib/python3.9/site-packages (2.11.0)\n"
     ]
    }
   ],
   "source": [
    "!pip install tensorflow\n",
    "!pip install keras\n"
   ]
  },
  {
   "cell_type": "code",
   "execution_count": 66,
   "metadata": {},
   "outputs": [],
   "source": [
    "# ctrate the STACKED LSTM model\n",
    "import keras\n",
    "from tensorflow.keras.models import Sequential\n",
    "from tensorflow.keras.layers import Dense\n",
    "from tensorflow.keras.layers import LSTM"
   ]
  },
  {
   "cell_type": "code",
   "execution_count": 67,
   "metadata": {},
   "outputs": [
    {
     "name": "stderr",
     "output_type": "stream",
     "text": [
      "2023-03-05 17:03:46.110169: W tensorflow/compiler/xla/stream_executor/platform/default/dso_loader.cc:64] Could not load dynamic library 'libcuda.so.1'; dlerror: libcuda.so.1: cannot open shared object file: No such file or directory\n",
      "2023-03-05 17:03:46.110213: W tensorflow/compiler/xla/stream_executor/cuda/cuda_driver.cc:265] failed call to cuInit: UNKNOWN ERROR (303)\n",
      "2023-03-05 17:03:46.110240: I tensorflow/compiler/xla/stream_executor/cuda/cuda_diagnostics.cc:156] kernel driver does not appear to be running on this host (f303cb05dd10): /proc/driver/nvidia/version does not exist\n",
      "2023-03-05 17:03:46.110587: I tensorflow/core/platform/cpu_feature_guard.cc:193] This TensorFlow binary is optimized with oneAPI Deep Neural Network Library (oneDNN) to use the following CPU instructions in performance-critical operations:  AVX2 FMA\n",
      "To enable them in other operations, rebuild TensorFlow with the appropriate compiler flags.\n"
     ]
    }
   ],
   "source": [
    "model = Sequential()\n",
    "model.add(LSTM(50,return_sequences=True,input_shape=(100,1)))\n",
    "model.add(LSTM(50,return_sequences=True))\n",
    "model.add(LSTM(50))\n",
    "model.add(Dense(1))\n",
    "model.compile(loss='mean_squared_error',optimizer='adam')"
   ]
  },
  {
   "cell_type": "code",
   "execution_count": 68,
   "metadata": {},
   "outputs": [
    {
     "name": "stdout",
     "output_type": "stream",
     "text": [
      "Model: \"sequential\"\n",
      "_________________________________________________________________\n",
      " Layer (type)                Output Shape              Param #   \n",
      "=================================================================\n",
      " lstm (LSTM)                 (None, 100, 50)           10400     \n",
      "                                                                 \n",
      " lstm_1 (LSTM)               (None, 100, 50)           20200     \n",
      "                                                                 \n",
      " lstm_2 (LSTM)               (None, 50)                20200     \n",
      "                                                                 \n",
      " dense (Dense)               (None, 1)                 51        \n",
      "                                                                 \n",
      "=================================================================\n",
      "Total params: 50,851\n",
      "Trainable params: 50,851\n",
      "Non-trainable params: 0\n",
      "_________________________________________________________________\n"
     ]
    }
   ],
   "source": [
    "model.summary()"
   ]
  },
  {
   "cell_type": "code",
   "execution_count": 70,
   "metadata": {},
   "outputs": [
    {
     "name": "stdout",
     "output_type": "stream",
     "text": [
      "Epoch 1/100\n",
      "12/12 [==============================] - 9s 321ms/step - loss: 0.0428 - val_loss: 0.0024\n",
      "Epoch 2/100\n",
      "12/12 [==============================] - 3s 211ms/step - loss: 0.0140 - val_loss: 0.0021\n",
      "Epoch 3/100\n",
      "12/12 [==============================] - 3s 216ms/step - loss: 0.0105 - val_loss: 6.8342e-04\n",
      "Epoch 4/100\n",
      "12/12 [==============================] - 3s 220ms/step - loss: 0.0106 - val_loss: 3.7933e-04\n",
      "Epoch 5/100\n",
      "12/12 [==============================] - 3s 219ms/step - loss: 0.0083 - val_loss: 4.8534e-04\n",
      "Epoch 6/100\n",
      "12/12 [==============================] - 3s 221ms/step - loss: 0.0074 - val_loss: 7.2101e-04\n",
      "Epoch 7/100\n",
      "12/12 [==============================] - 3s 221ms/step - loss: 0.0064 - val_loss: 3.6225e-04\n",
      "Epoch 8/100\n",
      "12/12 [==============================] - 3s 217ms/step - loss: 0.0057 - val_loss: 2.9893e-04\n",
      "Epoch 9/100\n",
      "12/12 [==============================] - 3s 215ms/step - loss: 0.0055 - val_loss: 5.1716e-04\n",
      "Epoch 10/100\n",
      "12/12 [==============================] - 3s 215ms/step - loss: 0.0074 - val_loss: 0.0014\n",
      "Epoch 11/100\n",
      "12/12 [==============================] - 3s 221ms/step - loss: 0.0054 - val_loss: 7.3326e-04\n",
      "Epoch 12/100\n",
      "12/12 [==============================] - 3s 220ms/step - loss: 0.0045 - val_loss: 3.3780e-04\n",
      "Epoch 13/100\n",
      "12/12 [==============================] - 3s 218ms/step - loss: 0.0037 - val_loss: 3.3639e-04\n",
      "Epoch 14/100\n",
      "12/12 [==============================] - 3s 219ms/step - loss: 0.0035 - val_loss: 3.4579e-04\n",
      "Epoch 15/100\n",
      "12/12 [==============================] - 3s 220ms/step - loss: 0.0031 - val_loss: 3.1028e-04\n",
      "Epoch 16/100\n",
      "12/12 [==============================] - 3s 215ms/step - loss: 0.0029 - val_loss: 3.1874e-04\n",
      "Epoch 17/100\n",
      "12/12 [==============================] - 3s 215ms/step - loss: 0.0031 - val_loss: 2.5021e-04\n",
      "Epoch 18/100\n",
      "12/12 [==============================] - 3s 217ms/step - loss: 0.0033 - val_loss: 3.2819e-04\n",
      "Epoch 19/100\n",
      "12/12 [==============================] - 3s 219ms/step - loss: 0.0037 - val_loss: 4.4013e-04\n",
      "Epoch 20/100\n",
      "12/12 [==============================] - 3s 223ms/step - loss: 0.0029 - val_loss: 2.5985e-04\n",
      "Epoch 21/100\n",
      "12/12 [==============================] - 3s 227ms/step - loss: 0.0023 - val_loss: 3.6305e-04\n",
      "Epoch 22/100\n",
      "12/12 [==============================] - 3s 225ms/step - loss: 0.0022 - val_loss: 3.0384e-04\n",
      "Epoch 23/100\n",
      "12/12 [==============================] - 3s 225ms/step - loss: 0.0021 - val_loss: 2.6666e-04\n",
      "Epoch 24/100\n",
      "12/12 [==============================] - 3s 221ms/step - loss: 0.0026 - val_loss: 3.2269e-04\n",
      "Epoch 25/100\n",
      "12/12 [==============================] - 3s 224ms/step - loss: 0.0021 - val_loss: 3.5274e-04\n",
      "Epoch 26/100\n",
      "12/12 [==============================] - 3s 223ms/step - loss: 0.0022 - val_loss: 3.3016e-04\n",
      "Epoch 27/100\n",
      "12/12 [==============================] - 3s 219ms/step - loss: 0.0025 - val_loss: 2.6087e-04\n",
      "Epoch 28/100\n",
      "12/12 [==============================] - 3s 227ms/step - loss: 0.0019 - val_loss: 2.6758e-04\n",
      "Epoch 29/100\n",
      "12/12 [==============================] - 3s 223ms/step - loss: 0.0021 - val_loss: 3.3228e-04\n",
      "Epoch 30/100\n",
      "12/12 [==============================] - 3s 219ms/step - loss: 0.0020 - val_loss: 2.6768e-04\n",
      "Epoch 31/100\n",
      "12/12 [==============================] - 3s 222ms/step - loss: 0.0018 - val_loss: 2.7532e-04\n",
      "Epoch 32/100\n",
      "12/12 [==============================] - 3s 225ms/step - loss: 0.0019 - val_loss: 2.6023e-04\n",
      "Epoch 33/100\n",
      "12/12 [==============================] - 3s 222ms/step - loss: 0.0021 - val_loss: 3.0492e-04\n",
      "Epoch 34/100\n",
      "12/12 [==============================] - 3s 212ms/step - loss: 0.0026 - val_loss: 3.6946e-04\n",
      "Epoch 35/100\n",
      "12/12 [==============================] - 3s 214ms/step - loss: 0.0035 - val_loss: 2.7057e-04\n",
      "Epoch 36/100\n",
      "12/12 [==============================] - 3s 215ms/step - loss: 0.0035 - val_loss: 3.2265e-04\n",
      "Epoch 37/100\n",
      "12/12 [==============================] - 3s 213ms/step - loss: 0.0027 - val_loss: 5.5891e-04\n",
      "Epoch 38/100\n",
      "12/12 [==============================] - 3s 216ms/step - loss: 0.0023 - val_loss: 2.7489e-04\n",
      "Epoch 39/100\n",
      "12/12 [==============================] - 3s 214ms/step - loss: 0.0019 - val_loss: 2.6065e-04\n",
      "Epoch 40/100\n",
      "12/12 [==============================] - 3s 220ms/step - loss: 0.0019 - val_loss: 2.8314e-04\n",
      "Epoch 41/100\n",
      "12/12 [==============================] - 3s 223ms/step - loss: 0.0017 - val_loss: 2.9894e-04\n",
      "Epoch 42/100\n",
      "12/12 [==============================] - 3s 221ms/step - loss: 0.0018 - val_loss: 2.5189e-04\n",
      "Epoch 43/100\n",
      "12/12 [==============================] - 3s 219ms/step - loss: 0.0019 - val_loss: 2.6687e-04\n",
      "Epoch 44/100\n",
      "12/12 [==============================] - 3s 216ms/step - loss: 0.0022 - val_loss: 4.5249e-04\n",
      "Epoch 45/100\n",
      "12/12 [==============================] - 3s 215ms/step - loss: 0.0027 - val_loss: 2.6933e-04\n",
      "Epoch 46/100\n",
      "12/12 [==============================] - 3s 215ms/step - loss: 0.0015 - val_loss: 3.0161e-04\n",
      "Epoch 47/100\n",
      "12/12 [==============================] - 3s 220ms/step - loss: 0.0017 - val_loss: 2.7675e-04\n",
      "Epoch 48/100\n",
      "12/12 [==============================] - 3s 222ms/step - loss: 0.0018 - val_loss: 3.4067e-04\n",
      "Epoch 49/100\n",
      "12/12 [==============================] - 3s 217ms/step - loss: 0.0021 - val_loss: 4.0731e-04\n",
      "Epoch 50/100\n",
      "12/12 [==============================] - 3s 217ms/step - loss: 0.0019 - val_loss: 2.7255e-04\n",
      "Epoch 51/100\n",
      "12/12 [==============================] - 3s 219ms/step - loss: 0.0018 - val_loss: 2.8221e-04\n",
      "Epoch 52/100\n",
      "12/12 [==============================] - 3s 221ms/step - loss: 0.0019 - val_loss: 2.6542e-04\n",
      "Epoch 53/100\n",
      "12/12 [==============================] - 3s 217ms/step - loss: 0.0016 - val_loss: 2.7194e-04\n",
      "Epoch 54/100\n",
      "12/12 [==============================] - 3s 223ms/step - loss: 0.0017 - val_loss: 2.7031e-04\n",
      "Epoch 55/100\n",
      "12/12 [==============================] - 3s 220ms/step - loss: 0.0027 - val_loss: 3.9601e-04\n",
      "Epoch 56/100\n",
      "12/12 [==============================] - 3s 220ms/step - loss: 0.0032 - val_loss: 3.0435e-04\n",
      "Epoch 57/100\n",
      "12/12 [==============================] - 3s 223ms/step - loss: 0.0024 - val_loss: 4.3118e-04\n",
      "Epoch 58/100\n",
      "12/12 [==============================] - 3s 211ms/step - loss: 0.0023 - val_loss: 2.5023e-04\n",
      "Epoch 59/100\n",
      "12/12 [==============================] - 3s 213ms/step - loss: 0.0020 - val_loss: 3.5132e-04\n",
      "Epoch 60/100\n",
      "12/12 [==============================] - 2s 209ms/step - loss: 0.0020 - val_loss: 3.1793e-04\n",
      "Epoch 61/100\n",
      "12/12 [==============================] - 3s 221ms/step - loss: 0.0019 - val_loss: 2.6305e-04\n",
      "Epoch 62/100\n",
      "12/12 [==============================] - 3s 221ms/step - loss: 0.0016 - val_loss: 2.8318e-04\n",
      "Epoch 63/100\n",
      "12/12 [==============================] - 3s 218ms/step - loss: 0.0015 - val_loss: 2.7337e-04\n",
      "Epoch 64/100\n",
      "12/12 [==============================] - 3s 220ms/step - loss: 0.0060 - val_loss: 3.8041e-04\n",
      "Epoch 65/100\n",
      "12/12 [==============================] - 3s 221ms/step - loss: 0.0032 - val_loss: 5.3254e-04\n",
      "Epoch 66/100\n",
      "12/12 [==============================] - 3s 224ms/step - loss: 0.0023 - val_loss: 2.7517e-04\n",
      "Epoch 67/100\n",
      "12/12 [==============================] - 3s 220ms/step - loss: 0.0019 - val_loss: 2.5498e-04\n",
      "Epoch 68/100\n",
      "12/12 [==============================] - 3s 220ms/step - loss: 0.0017 - val_loss: 2.6674e-04\n",
      "Epoch 69/100\n",
      "12/12 [==============================] - 3s 223ms/step - loss: 0.0015 - val_loss: 2.8381e-04\n",
      "Epoch 70/100\n",
      "12/12 [==============================] - 3s 222ms/step - loss: 0.0018 - val_loss: 2.7722e-04\n",
      "Epoch 71/100\n",
      "12/12 [==============================] - 3s 222ms/step - loss: 0.0014 - val_loss: 2.5116e-04\n",
      "Epoch 72/100\n",
      "12/12 [==============================] - 3s 221ms/step - loss: 0.0015 - val_loss: 3.6609e-04\n",
      "Epoch 73/100\n",
      "12/12 [==============================] - 3s 222ms/step - loss: 0.0019 - val_loss: 2.5272e-04\n",
      "Epoch 74/100\n",
      "12/12 [==============================] - 3s 222ms/step - loss: 0.0016 - val_loss: 2.3207e-04\n",
      "Epoch 75/100\n",
      "12/12 [==============================] - 3s 218ms/step - loss: 0.0020 - val_loss: 2.4673e-04\n",
      "Epoch 76/100\n",
      "12/12 [==============================] - 3s 215ms/step - loss: 0.0015 - val_loss: 2.9627e-04\n",
      "Epoch 77/100\n",
      "12/12 [==============================] - 3s 217ms/step - loss: 0.0015 - val_loss: 5.1759e-04\n",
      "Epoch 78/100\n",
      "12/12 [==============================] - 3s 219ms/step - loss: 0.0017 - val_loss: 4.8240e-04\n",
      "Epoch 79/100\n",
      "12/12 [==============================] - 3s 212ms/step - loss: 0.0020 - val_loss: 2.9014e-04\n",
      "Epoch 80/100\n",
      "12/12 [==============================] - 3s 228ms/step - loss: 0.0015 - val_loss: 3.0475e-04\n",
      "Epoch 81/100\n",
      "12/12 [==============================] - 3s 230ms/step - loss: 0.0013 - val_loss: 2.6974e-04\n",
      "Epoch 82/100\n",
      "12/12 [==============================] - 3s 224ms/step - loss: 0.0013 - val_loss: 2.4157e-04\n",
      "Epoch 83/100\n",
      "12/12 [==============================] - 3s 226ms/step - loss: 0.0015 - val_loss: 3.4181e-04\n",
      "Epoch 84/100\n",
      "12/12 [==============================] - 3s 224ms/step - loss: 0.0017 - val_loss: 3.4370e-04\n",
      "Epoch 85/100\n",
      "12/12 [==============================] - 3s 222ms/step - loss: 0.0016 - val_loss: 2.6780e-04\n",
      "Epoch 86/100\n",
      "12/12 [==============================] - 3s 220ms/step - loss: 0.0014 - val_loss: 2.4997e-04\n",
      "Epoch 87/100\n",
      "12/12 [==============================] - 3s 224ms/step - loss: 0.0013 - val_loss: 2.4323e-04\n",
      "Epoch 88/100\n",
      "12/12 [==============================] - 3s 213ms/step - loss: 0.0014 - val_loss: 2.3735e-04\n",
      "Epoch 89/100\n",
      "12/12 [==============================] - 3s 219ms/step - loss: 0.0013 - val_loss: 2.9330e-04\n",
      "Epoch 90/100\n",
      "12/12 [==============================] - 3s 213ms/step - loss: 0.0013 - val_loss: 2.9000e-04\n",
      "Epoch 91/100\n",
      "12/12 [==============================] - 3s 219ms/step - loss: 0.0013 - val_loss: 2.4175e-04\n",
      "Epoch 92/100\n",
      "12/12 [==============================] - 3s 226ms/step - loss: 0.0013 - val_loss: 2.6488e-04\n",
      "Epoch 93/100\n",
      "12/12 [==============================] - 3s 224ms/step - loss: 0.0014 - val_loss: 2.3814e-04\n",
      "Epoch 94/100\n",
      "12/12 [==============================] - 3s 223ms/step - loss: 0.0014 - val_loss: 2.2872e-04\n",
      "Epoch 95/100\n",
      "12/12 [==============================] - 3s 221ms/step - loss: 0.0015 - val_loss: 2.4095e-04\n",
      "Epoch 96/100\n",
      "12/12 [==============================] - 3s 218ms/step - loss: 0.0012 - val_loss: 3.5094e-04\n",
      "Epoch 97/100\n",
      "12/12 [==============================] - 3s 216ms/step - loss: 0.0013 - val_loss: 2.8235e-04\n",
      "Epoch 98/100\n",
      "12/12 [==============================] - 3s 219ms/step - loss: 0.0013 - val_loss: 2.2935e-04\n",
      "Epoch 99/100\n",
      "12/12 [==============================] - 3s 219ms/step - loss: 0.0012 - val_loss: 2.2073e-04\n",
      "Epoch 100/100\n",
      "12/12 [==============================] - 3s 221ms/step - loss: 0.0013 - val_loss: 3.0878e-04\n"
     ]
    },
    {
     "data": {
      "text/plain": [
       "<keras.callbacks.History at 0x7f8444920ac0>"
      ]
     },
     "execution_count": 70,
     "metadata": {},
     "output_type": "execute_result"
    }
   ],
   "source": [
    "model.fit(X_train,Y_train,validation_data=(X_test,Y_test),epochs=100,batch_size=64,verbose=1)"
   ]
  },
  {
   "cell_type": "code",
   "execution_count": 71,
   "metadata": {},
   "outputs": [],
   "source": [
    "import tensorflow as tf"
   ]
  },
  {
   "cell_type": "code",
   "execution_count": 72,
   "metadata": {},
   "outputs": [
    {
     "data": {
      "text/plain": [
       "'2.11.0'"
      ]
     },
     "execution_count": 72,
     "metadata": {},
     "output_type": "execute_result"
    }
   ],
   "source": [
    "tf.__version__"
   ]
  },
  {
   "cell_type": "code",
   "execution_count": 73,
   "metadata": {},
   "outputs": [
    {
     "name": "stdout",
     "output_type": "stream",
     "text": [
      "23/23 [==============================] - 2s 52ms/step\n",
      "11/11 [==============================] - 1s 45ms/step\n"
     ]
    }
   ],
   "source": [
    "# prediction and performance metrics\n",
    "train_predict = model.predict(X_train)\n",
    "test_predict = model.predict(X_test)"
   ]
  },
  {
   "cell_type": "code",
   "execution_count": 74,
   "metadata": {},
   "outputs": [],
   "source": [
    "# Transform to original form \n",
    "train_predict = scaler.inverse_transform(train_predict)\n",
    "test_predict = scaler.inverse_transform(test_predict)"
   ]
  },
  {
   "cell_type": "code",
   "execution_count": 76,
   "metadata": {},
   "outputs": [
    {
     "data": {
      "text/plain": [
       "253.75209946949212"
      ]
     },
     "execution_count": 76,
     "metadata": {},
     "output_type": "execute_result"
    }
   ],
   "source": [
    "### Calculate RMSE performance metrics\n",
    "import math\n",
    "from sklearn.metrics import mean_squared_error\n",
    "math.sqrt(mean_squared_error(Y_train,train_predict))"
   ]
  },
  {
   "cell_type": "code",
   "execution_count": 80,
   "metadata": {},
   "outputs": [
    {
     "data": {
      "text/plain": [
       "157.95506056173377"
      ]
     },
     "execution_count": 80,
     "metadata": {},
     "output_type": "execute_result"
    }
   ],
   "source": [
    "# Test data RMSE\n",
    "\n",
    "math.sqrt(mean_squared_error(Y_test,test_predict))"
   ]
  },
  {
   "cell_type": "code",
   "execution_count": 78,
   "metadata": {},
   "outputs": [
    {
     "data": {
      "text/plain": [
       "64009"
      ]
     },
     "execution_count": 78,
     "metadata": {},
     "output_type": "execute_result"
    }
   ],
   "source": [
    "\n"
   ]
  },
  {
   "cell_type": "code",
   "execution_count": 83,
   "metadata": {},
   "outputs": [
    {
     "data": {
      "image/png": "[encoded data removed]",
      "text/plain": [
       "<Figure size 640x480 with 1 Axes>"
      ]
     },
     "metadata": {},
     "output_type": "display_data"
    }
   ],
   "source": [
    "# plotting\n",
    "# shift train prediction for plotting/\n",
    "look_back = 100\n",
    "trainPredictPlot = np.empty_like(df1)\n",
    "trainPredictPlot[:,:] = np.nan\n",
    "trainPredictPlot[look_back:len(train_predict)+look_back, :] = train_predict\n",
    "\n",
    "# shift test predictions for plotting\n",
    "testPredictPlot = np.empty_like(df1)\n",
    "testPredictPlot[:,:] = np.nan\n",
    "testPredictPlot[len(train_predict)+(look_back*2)+1:len(df1)-1, :] = test_predict\n",
    "\n",
    "# plot baseline and prediction\n",
    "plt.plot(scaler.inverse_transform(df1))\n",
    "plt.plot(trainPredictPlot)\n",
    "plt.plot(testPredictPlot)\n",
    "plt.show()"
   ]
  },
  {
   "cell_type": "code",
   "execution_count": null,
   "metadata": {},
   "outputs": [],
   "source": []
  }
 ],
 "metadata": {
  "kernelspec": {
   "display_name": "Python 3.9.15 ('base')",
   "language": "python",
   "name": "python3"
  },
  "language_info": {
   "codemirror_mode": {
    "name": "ipython",
    "version": 3
   },
   "file_extension": ".py",
   "mimetype": "text/x-python",
   "name": "python",
   "nbconvert_exporter": "python",
   "pygments_lexer": "ipython3",
   "version": "3.9.15"
  },
  "orig_nbformat": 4,
  "vscode": {
   "interpreter": {
    "hash": "ba7d6a92d9c7295bfdcfceb88786d0d9300abf0a1802f116b1f16ab64cdf39a0"
   }
  }
 },
 "nbformat": 4,
 "nbformat_minor": 2
}
